{
 "cells": [
  {
   "cell_type": "markdown",
   "id": "c2e40eb8",
   "metadata": {},
   "source": [
    "# Домашнее задание 3. Буряк Константин, группа 2.\n"
   ]
  },
  {
   "cell_type": "code",
   "execution_count": 812,
   "id": "9311e523",
   "metadata": {},
   "outputs": [],
   "source": [
    "import numpy as np\n",
    "import pandas as pd\n",
    "import random\n",
    "\n",
    "import scipy.stats as sts\n",
    "import matplotlib.pyplot as plt\n",
    "import seaborn as sns\n",
    "\n",
    "from sklearn.model_selection import train_test_split, StratifiedKFold\n",
    "from sklearn.linear_model import LogisticRegression, LogisticRegressionCV\n",
    "from sklearn import metrics\n",
    "from sklearn.metrics import classification_report, confusion_matrix, precision_score, recall_score, roc_auc_score, roc_curve, accuracy_score, fbeta_score\n",
    "\n",
    "from sklearn.preprocessing import OneHotEncoder, StandardScaler, Normalizer, MinMaxScaler, minmax_scale, PowerTransformer\n",
    "from sklearn.compose import ColumnTransformer\n",
    "from sklearn.pipeline import Pipeline\n",
    "from sklearn.model_selection import GridSearchCV, cross_val_score \n",
    "\n",
    "from sklearn.feature_selection import f_regression, SelectKBest, f_classif, chi2, mutual_info_regression, SequentialFeatureSelector\n",
    "from mlxtend.feature_selection import ExhaustiveFeatureSelector\n",
    "\n",
    "import warnings\n",
    "warnings.filterwarnings(\"ignore\")"
   ]
  },
  {
   "cell_type": "markdown",
   "id": "56da0228",
   "metadata": {},
   "source": [
    "# Часть 1: минималочка [макс 20 баллов]"
   ]
  },
  {
   "cell_type": "markdown",
   "id": "cb568469",
   "metadata": {},
   "source": [
    "В этой части мы с вами попробуем построить самую простую модель для предсказания.\n",
    "\n",
    "Как мы с вами увидим: главная сложность - правильная подготовка данных. В таких задачах то, как именно вы преобразуете данные для обучения модели и будет во много определять её качество.\n",
    "\n",
    "В этой части мы сделаем простое преобразование данных путём простой агрегации данных о величине транзакций. "
   ]
  },
  {
   "cell_type": "markdown",
   "id": "3d8c2bf8",
   "metadata": {},
   "source": [
    "## Загрузка данных [5 баллов] "
   ]
  },
  {
   "cell_type": "markdown",
   "id": "b324b6bb",
   "metadata": {},
   "source": [
    "Скачайте данные для задачи с Яндекс.Диска:\n",
    "https://disk.yandex.ru/d/DGy6bbLaMZmrQg.\n",
    "\n",
    "Загрузите файлы с транзакциями и целевой меткой в pd.DataFrame.\n",
    "\n",
    "__Внимание__: у файла transactions.csv колоночный разделитель - точка с запятой \";\""
   ]
  },
  {
   "cell_type": "code",
   "execution_count": 813,
   "id": "12a08af9",
   "metadata": {},
   "outputs": [
    {
     "name": "stdout",
     "output_type": "stream",
     "text": [
      "(2282467, 4)\n"
     ]
    },
    {
     "data": {
      "text/html": [
       "<div>\n",
       "<style scoped>\n",
       "    .dataframe tbody tr th:only-of-type {\n",
       "        vertical-align: middle;\n",
       "    }\n",
       "\n",
       "    .dataframe tbody tr th {\n",
       "        vertical-align: top;\n",
       "    }\n",
       "\n",
       "    .dataframe thead th {\n",
       "        text-align: right;\n",
       "    }\n",
       "</style>\n",
       "<table border=\"1\" class=\"dataframe\">\n",
       "  <thead>\n",
       "    <tr style=\"text-align: right;\">\n",
       "      <th></th>\n",
       "      <th>user_id</th>\n",
       "      <th>dt</th>\n",
       "      <th>type</th>\n",
       "      <th>value</th>\n",
       "    </tr>\n",
       "  </thead>\n",
       "  <tbody>\n",
       "    <tr>\n",
       "      <th>0</th>\n",
       "      <td>39026145</td>\n",
       "      <td>0 10:23:26</td>\n",
       "      <td>Звонки с использованием телефонов, считывающих...</td>\n",
       "      <td>2695.099</td>\n",
       "    </tr>\n",
       "    <tr>\n",
       "      <th>1</th>\n",
       "      <td>39026145</td>\n",
       "      <td>6 07:08:31</td>\n",
       "      <td>Звонки с использованием телефонов, считывающих...</td>\n",
       "      <td>2358.212</td>\n",
       "    </tr>\n",
       "    <tr>\n",
       "      <th>2</th>\n",
       "      <td>39026145</td>\n",
       "      <td>8 07:06:10</td>\n",
       "      <td>Звонки с использованием телефонов, считывающих...</td>\n",
       "      <td>2807.395</td>\n",
       "    </tr>\n",
       "    <tr>\n",
       "      <th>3</th>\n",
       "      <td>39026145</td>\n",
       "      <td>11 08:49:03</td>\n",
       "      <td>Звонки с использованием телефонов, считывающих...</td>\n",
       "      <td>2695.099</td>\n",
       "    </tr>\n",
       "    <tr>\n",
       "      <th>4</th>\n",
       "      <td>39026145</td>\n",
       "      <td>11 14:12:08</td>\n",
       "      <td>Звонки с использованием телефонов, считывающих...</td>\n",
       "      <td>2695.099</td>\n",
       "    </tr>\n",
       "  </tbody>\n",
       "</table>\n",
       "</div>"
      ],
      "text/plain": [
       "    user_id           dt                                               type  \\\n",
       "0  39026145   0 10:23:26  Звонки с использованием телефонов, считывающих...   \n",
       "1  39026145   6 07:08:31  Звонки с использованием телефонов, считывающих...   \n",
       "2  39026145   8 07:06:10  Звонки с использованием телефонов, считывающих...   \n",
       "3  39026145  11 08:49:03  Звонки с использованием телефонов, считывающих...   \n",
       "4  39026145  11 14:12:08  Звонки с использованием телефонов, считывающих...   \n",
       "\n",
       "      value  \n",
       "0  2695.099  \n",
       "1  2358.212  \n",
       "2  2807.395  \n",
       "3  2695.099  \n",
       "4  2695.099  "
      ]
     },
     "execution_count": 813,
     "metadata": {},
     "output_type": "execute_result"
    }
   ],
   "source": [
    "df_transactions = pd.read_csv('transactions.csv', sep=';') #Я добавляю загруженные с яндекса данные уже с моего компа, поэтому\n",
    "print(df_transactions.shape)                     #для запуска необходимо добавить соответствующие таблички в файловую систему jupyter-а\n",
    "df_transactions.head()"
   ]
  },
  {
   "cell_type": "code",
   "execution_count": 814,
   "id": "0f9e3594",
   "metadata": {},
   "outputs": [
    {
     "name": "stdout",
     "output_type": "stream",
     "text": [
      "(8400, 2)\n"
     ]
    },
    {
     "data": {
      "text/html": [
       "<div>\n",
       "<style scoped>\n",
       "    .dataframe tbody tr th:only-of-type {\n",
       "        vertical-align: middle;\n",
       "    }\n",
       "\n",
       "    .dataframe tbody tr th {\n",
       "        vertical-align: top;\n",
       "    }\n",
       "\n",
       "    .dataframe thead th {\n",
       "        text-align: right;\n",
       "    }\n",
       "</style>\n",
       "<table border=\"1\" class=\"dataframe\">\n",
       "  <thead>\n",
       "    <tr style=\"text-align: right;\">\n",
       "      <th></th>\n",
       "      <th>user_id</th>\n",
       "      <th>gender</th>\n",
       "    </tr>\n",
       "  </thead>\n",
       "  <tbody>\n",
       "    <tr>\n",
       "      <th>0</th>\n",
       "      <td>6740969</td>\n",
       "      <td>1.0</td>\n",
       "    </tr>\n",
       "    <tr>\n",
       "      <th>1</th>\n",
       "      <td>36599781</td>\n",
       "      <td>0.0</td>\n",
       "    </tr>\n",
       "    <tr>\n",
       "      <th>2</th>\n",
       "      <td>91453656</td>\n",
       "      <td>1.0</td>\n",
       "    </tr>\n",
       "    <tr>\n",
       "      <th>3</th>\n",
       "      <td>17431962</td>\n",
       "      <td>1.0</td>\n",
       "    </tr>\n",
       "    <tr>\n",
       "      <th>4</th>\n",
       "      <td>72568668</td>\n",
       "      <td>1.0</td>\n",
       "    </tr>\n",
       "  </tbody>\n",
       "</table>\n",
       "</div>"
      ],
      "text/plain": [
       "    user_id  gender\n",
       "0   6740969     1.0\n",
       "1  36599781     0.0\n",
       "2  91453656     1.0\n",
       "3  17431962     1.0\n",
       "4  72568668     1.0"
      ]
     },
     "execution_count": 814,
     "metadata": {},
     "output_type": "execute_result"
    }
   ],
   "source": [
    "df_gender = pd.read_csv('gender.csv', sep=',')\n",
    "print(df_gender.shape) \n",
    "df_gender.head() #всего 2 гендера?! "
   ]
  },
  {
   "cell_type": "markdown",
   "id": "ad3a83c9",
   "metadata": {},
   "source": [
    "## Подготовка данных [10 баллов] \n",
    "\n",
    "Для данной задачи необходимо как-то собрать данные для каждого пользователя в один вектор (строку таблицы). Сейчас, как вы можете увидеть, в таблице с данными одному пользователю может соответствовать много строк (каждая операция - отдельная строка).\n",
    "\n",
    "Таким образом, необходима агрегация данных - это можно сделать множеством разных способов."
   ]
  },
  {
   "cell_type": "markdown",
   "id": "567817e8",
   "metadata": {},
   "source": [
    "### Агрегация "
   ]
  },
  {
   "cell_type": "markdown",
   "id": "e3c812ef",
   "metadata": {},
   "source": [
    "Произведите простую агрегацию данных и для каждого пользователя в качестве признаков получите сумму, среднее и стандартное отклонение величины его транзакций. \n",
    "\n",
    "Так же добавите для каждого пользователя колонку с таргетом.\n",
    "\n",
    "По итогу вы должны получить таблицу с колонками:\n",
    "* user_id\n",
    "* value_sum\n",
    "* value_mean\n",
    "* value_std\n",
    "* gender"
   ]
  },
  {
   "cell_type": "code",
   "execution_count": 815,
   "id": "fae2c4e0",
   "metadata": {},
   "outputs": [
    {
     "data": {
      "text/plain": [
       "8356"
      ]
     },
     "execution_count": 815,
     "metadata": {},
     "output_type": "execute_result"
    }
   ],
   "source": [
    "len(df_transactions['user_id'].unique()) #прежде всего заметим, что id в таблице транзакций меньше, чем в таблице gender. Значит будем объединять по первой таблице"
   ]
  },
  {
   "cell_type": "code",
   "execution_count": 816,
   "id": "37a24ec8",
   "metadata": {},
   "outputs": [
    {
     "data": {
      "text/plain": [
       "user_id    0\n",
       "dt         0\n",
       "type       0\n",
       "value      0\n",
       "dtype: int64"
      ]
     },
     "execution_count": 816,
     "metadata": {},
     "output_type": "execute_result"
    }
   ],
   "source": [
    "df_transactions.isnull().sum() #тут все круто, пустых строк нет. В таблице gender проблем быть не может, там только 0 и 1"
   ]
  },
  {
   "cell_type": "code",
   "execution_count": 817,
   "id": "151d0b40",
   "metadata": {},
   "outputs": [
    {
     "data": {
      "text/html": [
       "<div>\n",
       "<style scoped>\n",
       "    .dataframe tbody tr th:only-of-type {\n",
       "        vertical-align: middle;\n",
       "    }\n",
       "\n",
       "    .dataframe tbody tr th {\n",
       "        vertical-align: top;\n",
       "    }\n",
       "\n",
       "    .dataframe thead th {\n",
       "        text-align: right;\n",
       "    }\n",
       "</style>\n",
       "<table border=\"1\" class=\"dataframe\">\n",
       "  <thead>\n",
       "    <tr style=\"text-align: right;\">\n",
       "      <th></th>\n",
       "      <th>user_id</th>\n",
       "      <th>value_sum</th>\n",
       "      <th>value_mean</th>\n",
       "      <th>value_std</th>\n",
       "      <th>gender</th>\n",
       "    </tr>\n",
       "  </thead>\n",
       "  <tbody>\n",
       "    <tr>\n",
       "      <th>0</th>\n",
       "      <td>22899</td>\n",
       "      <td>274383.315</td>\n",
       "      <td>2143.619648</td>\n",
       "      <td>656.186785</td>\n",
       "      <td>1.0</td>\n",
       "    </tr>\n",
       "    <tr>\n",
       "      <th>1</th>\n",
       "      <td>27914</td>\n",
       "      <td>166436.523</td>\n",
       "      <td>2521.765500</td>\n",
       "      <td>415.972053</td>\n",
       "      <td>1.0</td>\n",
       "    </tr>\n",
       "    <tr>\n",
       "      <th>2</th>\n",
       "      <td>28753</td>\n",
       "      <td>251578.185</td>\n",
       "      <td>1980.930591</td>\n",
       "      <td>749.304999</td>\n",
       "      <td>0.0</td>\n",
       "    </tr>\n",
       "    <tr>\n",
       "      <th>3</th>\n",
       "      <td>31385</td>\n",
       "      <td>717856.052</td>\n",
       "      <td>2323.158744</td>\n",
       "      <td>632.491585</td>\n",
       "      <td>0.0</td>\n",
       "    </tr>\n",
       "    <tr>\n",
       "      <th>4</th>\n",
       "      <td>38084</td>\n",
       "      <td>1360028.958</td>\n",
       "      <td>2095.576206</td>\n",
       "      <td>649.030870</td>\n",
       "      <td>0.0</td>\n",
       "    </tr>\n",
       "  </tbody>\n",
       "</table>\n",
       "</div>"
      ],
      "text/plain": [
       "   user_id    value_sum   value_mean   value_std  gender\n",
       "0    22899   274383.315  2143.619648  656.186785     1.0\n",
       "1    27914   166436.523  2521.765500  415.972053     1.0\n",
       "2    28753   251578.185  1980.930591  749.304999     0.0\n",
       "3    31385   717856.052  2323.158744  632.491585     0.0\n",
       "4    38084  1360028.958  2095.576206  649.030870     0.0"
      ]
     },
     "execution_count": 817,
     "metadata": {},
     "output_type": "execute_result"
    }
   ],
   "source": [
    "df_agregate = df_transactions.groupby(['user_id']).agg(['sum', 'mean','std']).reset_index()\n",
    "df_agregate.columns = ['user_id', 'value_sum', 'value_mean', 'value_std']\n",
    "df_agregate = df_agregate.merge(df_gender, how='left')\n",
    "df_agregate.head()"
   ]
  },
  {
   "cell_type": "code",
   "execution_count": 818,
   "id": "c30a23e9",
   "metadata": {},
   "outputs": [
    {
     "data": {
      "text/plain": [
       "user_id        0\n",
       "value_sum      0\n",
       "value_mean     0\n",
       "value_std     47\n",
       "gender         0\n",
       "dtype: int64"
      ]
     },
     "execution_count": 818,
     "metadata": {},
     "output_type": "execute_result"
    }
   ],
   "source": [
    "df_agregate.isnull().sum() #некоторые стандартные отклонения занулились,т.к. у id только 1 транзакция, следовательно заменим nan-ы на 0"
   ]
  },
  {
   "cell_type": "code",
   "execution_count": 819,
   "id": "13ac6165",
   "metadata": {},
   "outputs": [],
   "source": [
    "df_agregate = df_agregate.fillna(0)"
   ]
  },
  {
   "cell_type": "code",
   "execution_count": 820,
   "id": "398ea8f9",
   "metadata": {},
   "outputs": [],
   "source": [
    "last_chance1 = df_agregate.set_index('user_id').drop('gender', axis=1) #для 4 части"
   ]
  },
  {
   "cell_type": "markdown",
   "id": "194e73a7",
   "metadata": {},
   "source": [
    "### Отложенная выборка "
   ]
  },
  {
   "cell_type": "markdown",
   "id": "d3f431ee",
   "metadata": {},
   "source": [
    "Получите полный список пользователей и разделите их на два списка:\n",
    "* тренировочный список пользователей (80%)\n",
    "* тестовый список пользователей (20%)"
   ]
  },
  {
   "cell_type": "markdown",
   "id": "646a73cf",
   "metadata": {},
   "source": [
    "__Важное замечание__: Далее во всех пунктах, где вам нужно провалидировать (оценить) получившуюся модель исползуйте данные только для этих тестовых пользователей.\n",
    "\n",
    "Обучать все модели, естественно, нужно только на данных пользователей из обучающего списка."
   ]
  },
  {
   "cell_type": "code",
   "execution_count": 821,
   "id": "a74ea5aa",
   "metadata": {},
   "outputs": [],
   "source": [
    "df_train, df_test = train_test_split(df_agregate, test_size = 0.2, stratify=df_agregate['gender'],  random_state=42)"
   ]
  },
  {
   "cell_type": "code",
   "execution_count": 822,
   "id": "5dac6a48",
   "metadata": {},
   "outputs": [
    {
     "name": "stdout",
     "output_type": "stream",
     "text": [
      "746.0 2984.0\n"
     ]
    }
   ],
   "source": [
    "print(df_test['gender'].sum(), df_train['gender'].sum()) #соотношение точно 1 к 4, что значит, что \n",
    "                                         #пропорция гендеров в train-е и test-е соразмерна отношению размеров этих таблиц"
   ]
  },
  {
   "cell_type": "markdown",
   "id": "c4e54aa8",
   "metadata": {},
   "source": [
    "Для нашей задачи получите признаки и целевые метки обучающей и тестовой выборки. "
   ]
  },
  {
   "cell_type": "code",
   "execution_count": 824,
   "id": "e947e769",
   "metadata": {},
   "outputs": [],
   "source": [
    "features = df_train.dtypes[df_train.dtypes != 'object'].index.values[:-1] #собственно, признаки, по которым будем предсказывать гендер\n",
    "\n",
    "y_train = df_train['gender']  #целевая переменная для test-а и train-а\n",
    "y_test = df_test['gender']\n",
    "\n",
    "x_train = df_train[features]   #регрессоры для test-а и train-а\n",
    "x_test = df_test[features]"
   ]
  },
  {
   "cell_type": "markdown",
   "id": "852a5e0c",
   "metadata": {},
   "source": [
    "## Обучение и оценка модели [5 баллов] "
   ]
  },
  {
   "cell_type": "markdown",
   "id": "0d3a14bb",
   "metadata": {},
   "source": [
    "Обучите модель логистической регрессии с дефолтными параметрами.\n",
    "\n",
    "Получите предсказания вероятностей первого класса."
   ]
  },
  {
   "cell_type": "code",
   "execution_count": 825,
   "id": "9b458875",
   "metadata": {},
   "outputs": [],
   "source": [
    "log_regression = LogisticRegression(random_state=42)\n",
    "log_regression.fit(x_train, y_train)\n",
    "y_pred = log_regression.predict(x_test) #использует порог 0.5, как и надо в некст пункте\n",
    "prob = log_regression.predict_proba(x_test)[:,1] #можно и вероятности первого класса вытащить, как просят"
   ]
  },
  {
   "cell_type": "markdown",
   "id": "f2345148",
   "metadata": {},
   "source": [
    "### Валидация "
   ]
  },
  {
   "cell_type": "markdown",
   "id": "ee3576b3",
   "metadata": {},
   "source": [
    "Посчитайте ROC_AUC, accuracy, precision, recall для получившихся предсказаний.\n",
    "\n",
    "Для метрик, для которых необходимы метки классов, а не вероятности - используйте порог 0.5.\n",
    "\n",
    "Далее при оценки других моделей приводите эти же метрики (если явно не указано иное)."
   ]
  },
  {
   "cell_type": "code",
   "execution_count": 826,
   "id": "434f611a",
   "metadata": {},
   "outputs": [
    {
     "name": "stdout",
     "output_type": "stream",
     "text": [
      "ROC_AUC: 0.4870468271385474\n",
      "Accuracy: 0.5538277511961722\n",
      "precision: 0.0\n",
      "recall: 0.0\n"
     ]
    }
   ],
   "source": [
    "print('ROC_AUC:', roc_auc_score(y_test, prob))\n",
    "print('Accuracy:', accuracy_score(y_test, y_pred))\n",
    "print('precision:', precision_score(y_test, y_pred))\n",
    "print('recall:', recall_score(y_test, y_pred))"
   ]
  },
  {
   "cell_type": "markdown",
   "id": "9c06a7c5",
   "metadata": {},
   "source": [
    "### Вывод:\n",
    "Качество кошмарное, модель не предсказала ни единого первого класса, при заданном пороге 0.5 доля верно классифицированных объектов(Accuracy) полностью совпадает с изначальным соотношением гендеров в df_agregate. Это во-первых, связано со слишком высоким порогом, так как по всей видимости выбранные признаки слабо дифференцируют людей по полу, а во-вторых с отсутствием какой-либо настройки модели."
   ]
  },
  {
   "cell_type": "markdown",
   "id": "e94a47be",
   "metadata": {},
   "source": [
    "# Часть 2: мб сделаем что-то более серьёзное? [макс 20 баллов]"
   ]
  },
  {
   "cell_type": "markdown",
   "id": "6724dd97",
   "metadata": {},
   "source": [
    "Давайте попробуем улучшить качество решения задачи за счёт другого метода подготовки данных.\n",
    "\n",
    "Ранее мы использовали простое преобразование, когда каждый клиент описывался только 3 значениями.\n",
    "Давайте сделаем что-то более сложное и попробуем добавить больше данных о клиенте для модели."
   ]
  },
  {
   "cell_type": "markdown",
   "id": "c5cf8456",
   "metadata": {},
   "source": [
    "## Подготовка данных [15 баллов]"
   ]
  },
  {
   "cell_type": "markdown",
   "id": "d30f62ce",
   "metadata": {},
   "source": [
    "Воспользуемся тем, что каждая транзакция у нас имеет свой тип - это уж точно более информативно, чем агрегация по всем транзакциям.\n",
    "\n",
    "Создайте сводную таблицу, где для каждого клиента (строка) будут указаны его суммарные траты на каждую категорию (столбец). Таким образом, вы должны получить таблицу с числом строк равным количеству клиентов и числом столбцов - количеству категорий трат. Каждая ячейка должна содержать суммарные траты данного клиента в данной категории.\n",
    "\n",
    "__Подсказка__: у DataFrame есть полезный метод `pivot_table`."
   ]
  },
  {
   "cell_type": "code",
   "execution_count": 827,
   "id": "f87a5d79",
   "metadata": {},
   "outputs": [
    {
     "data": {
      "text/plain": [
       "184"
      ]
     },
     "execution_count": 827,
     "metadata": {},
     "output_type": "execute_result"
    }
   ],
   "source": [
    "len(df_transactions['type'].unique()) #число категорий трат"
   ]
  },
  {
   "cell_type": "code",
   "execution_count": 828,
   "id": "a90e86e4",
   "metadata": {},
   "outputs": [
    {
     "data": {
      "text/html": [
       "<div>\n",
       "<style scoped>\n",
       "    .dataframe tbody tr th:only-of-type {\n",
       "        vertical-align: middle;\n",
       "    }\n",
       "\n",
       "    .dataframe tbody tr th {\n",
       "        vertical-align: top;\n",
       "    }\n",
       "\n",
       "    .dataframe thead th {\n",
       "        text-align: right;\n",
       "    }\n",
       "</style>\n",
       "<table border=\"1\" class=\"dataframe\">\n",
       "  <thead>\n",
       "    <tr style=\"text-align: right;\">\n",
       "      <th></th>\n",
       "      <th>Авиалинии, авиакомпании</th>\n",
       "      <th>Авиалинии, авиакомпании, нигде более не классифицированные</th>\n",
       "      <th>Автобусные линии</th>\n",
       "      <th>Автозапчасти и аксессуары</th>\n",
       "      <th>Автоматизированные бензозаправки</th>\n",
       "      <th>Автомойки</th>\n",
       "      <th>Автошины</th>\n",
       "      <th>Агентства по автотранспортным перевозкам, местные/дальные автогрузоперевозки, компании попереезду и хранению, местная доставка</th>\n",
       "      <th>Агентства по аренде автомобилей</th>\n",
       "      <th>Агенты и менеджеры по аренде недвижимости</th>\n",
       "      <th>...</th>\n",
       "      <th>Химикалии и смежные вещества, не классифицированные ранее</th>\n",
       "      <th>Химчистки</th>\n",
       "      <th>Ценные бумаги: брокеры/дилеры</th>\n",
       "      <th>Центры здоровья</th>\n",
       "      <th>Цифровые товары, игры</th>\n",
       "      <th>Школы — бизнес и секретарей</th>\n",
       "      <th>Штрафы</th>\n",
       "      <th>Штучные товары, галантерея и другие текстильные товары</th>\n",
       "      <th>Электрические части и оборудование</th>\n",
       "      <th>gender</th>\n",
       "    </tr>\n",
       "    <tr>\n",
       "      <th>user_id</th>\n",
       "      <th></th>\n",
       "      <th></th>\n",
       "      <th></th>\n",
       "      <th></th>\n",
       "      <th></th>\n",
       "      <th></th>\n",
       "      <th></th>\n",
       "      <th></th>\n",
       "      <th></th>\n",
       "      <th></th>\n",
       "      <th></th>\n",
       "      <th></th>\n",
       "      <th></th>\n",
       "      <th></th>\n",
       "      <th></th>\n",
       "      <th></th>\n",
       "      <th></th>\n",
       "      <th></th>\n",
       "      <th></th>\n",
       "      <th></th>\n",
       "      <th></th>\n",
       "    </tr>\n",
       "  </thead>\n",
       "  <tbody>\n",
       "    <tr>\n",
       "      <th>22899</th>\n",
       "      <td>0.0</td>\n",
       "      <td>0.0</td>\n",
       "      <td>0.0</td>\n",
       "      <td>0.0</td>\n",
       "      <td>0.0</td>\n",
       "      <td>0.0</td>\n",
       "      <td>0.0</td>\n",
       "      <td>0.0</td>\n",
       "      <td>0.0</td>\n",
       "      <td>0.0</td>\n",
       "      <td>...</td>\n",
       "      <td>0.0</td>\n",
       "      <td>0.0</td>\n",
       "      <td>0.0</td>\n",
       "      <td>0.0</td>\n",
       "      <td>0.0</td>\n",
       "      <td>0.0</td>\n",
       "      <td>0.0</td>\n",
       "      <td>0.0</td>\n",
       "      <td>0.0</td>\n",
       "      <td>1.0</td>\n",
       "    </tr>\n",
       "    <tr>\n",
       "      <th>27914</th>\n",
       "      <td>0.0</td>\n",
       "      <td>0.0</td>\n",
       "      <td>0.0</td>\n",
       "      <td>0.0</td>\n",
       "      <td>0.0</td>\n",
       "      <td>0.0</td>\n",
       "      <td>0.0</td>\n",
       "      <td>0.0</td>\n",
       "      <td>0.0</td>\n",
       "      <td>0.0</td>\n",
       "      <td>...</td>\n",
       "      <td>0.0</td>\n",
       "      <td>0.0</td>\n",
       "      <td>0.0</td>\n",
       "      <td>0.0</td>\n",
       "      <td>0.0</td>\n",
       "      <td>0.0</td>\n",
       "      <td>0.0</td>\n",
       "      <td>0.0</td>\n",
       "      <td>0.0</td>\n",
       "      <td>1.0</td>\n",
       "    </tr>\n",
       "    <tr>\n",
       "      <th>28753</th>\n",
       "      <td>0.0</td>\n",
       "      <td>0.0</td>\n",
       "      <td>0.0</td>\n",
       "      <td>0.0</td>\n",
       "      <td>0.0</td>\n",
       "      <td>0.0</td>\n",
       "      <td>0.0</td>\n",
       "      <td>0.0</td>\n",
       "      <td>0.0</td>\n",
       "      <td>0.0</td>\n",
       "      <td>...</td>\n",
       "      <td>0.0</td>\n",
       "      <td>0.0</td>\n",
       "      <td>0.0</td>\n",
       "      <td>0.0</td>\n",
       "      <td>0.0</td>\n",
       "      <td>0.0</td>\n",
       "      <td>0.0</td>\n",
       "      <td>0.0</td>\n",
       "      <td>0.0</td>\n",
       "      <td>0.0</td>\n",
       "    </tr>\n",
       "    <tr>\n",
       "      <th>31385</th>\n",
       "      <td>0.0</td>\n",
       "      <td>0.0</td>\n",
       "      <td>0.0</td>\n",
       "      <td>0.0</td>\n",
       "      <td>0.0</td>\n",
       "      <td>0.0</td>\n",
       "      <td>0.0</td>\n",
       "      <td>0.0</td>\n",
       "      <td>0.0</td>\n",
       "      <td>0.0</td>\n",
       "      <td>...</td>\n",
       "      <td>0.0</td>\n",
       "      <td>0.0</td>\n",
       "      <td>0.0</td>\n",
       "      <td>0.0</td>\n",
       "      <td>0.0</td>\n",
       "      <td>0.0</td>\n",
       "      <td>0.0</td>\n",
       "      <td>0.0</td>\n",
       "      <td>0.0</td>\n",
       "      <td>0.0</td>\n",
       "    </tr>\n",
       "    <tr>\n",
       "      <th>38084</th>\n",
       "      <td>0.0</td>\n",
       "      <td>0.0</td>\n",
       "      <td>0.0</td>\n",
       "      <td>0.0</td>\n",
       "      <td>0.0</td>\n",
       "      <td>0.0</td>\n",
       "      <td>0.0</td>\n",
       "      <td>0.0</td>\n",
       "      <td>0.0</td>\n",
       "      <td>0.0</td>\n",
       "      <td>...</td>\n",
       "      <td>0.0</td>\n",
       "      <td>0.0</td>\n",
       "      <td>0.0</td>\n",
       "      <td>0.0</td>\n",
       "      <td>0.0</td>\n",
       "      <td>0.0</td>\n",
       "      <td>0.0</td>\n",
       "      <td>0.0</td>\n",
       "      <td>0.0</td>\n",
       "      <td>0.0</td>\n",
       "    </tr>\n",
       "  </tbody>\n",
       "</table>\n",
       "<p>5 rows × 185 columns</p>\n",
       "</div>"
      ],
      "text/plain": [
       "         Авиалинии, авиакомпании  \\\n",
       "user_id                            \n",
       "22899                        0.0   \n",
       "27914                        0.0   \n",
       "28753                        0.0   \n",
       "31385                        0.0   \n",
       "38084                        0.0   \n",
       "\n",
       "         Авиалинии, авиакомпании, нигде более не классифицированные  \\\n",
       "user_id                                                               \n",
       "22899                                                  0.0            \n",
       "27914                                                  0.0            \n",
       "28753                                                  0.0            \n",
       "31385                                                  0.0            \n",
       "38084                                                  0.0            \n",
       "\n",
       "         Автобусные линии  Автозапчасти и аксессуары  \\\n",
       "user_id                                                \n",
       "22899                 0.0                        0.0   \n",
       "27914                 0.0                        0.0   \n",
       "28753                 0.0                        0.0   \n",
       "31385                 0.0                        0.0   \n",
       "38084                 0.0                        0.0   \n",
       "\n",
       "         Автоматизированные бензозаправки  Автомойки  Автошины  \\\n",
       "user_id                                                          \n",
       "22899                                 0.0        0.0       0.0   \n",
       "27914                                 0.0        0.0       0.0   \n",
       "28753                                 0.0        0.0       0.0   \n",
       "31385                                 0.0        0.0       0.0   \n",
       "38084                                 0.0        0.0       0.0   \n",
       "\n",
       "         Агентства по автотранспортным перевозкам, местные/дальные автогрузоперевозки, компании попереезду и хранению, местная доставка  \\\n",
       "user_id                                                                                                                                   \n",
       "22899                                                  0.0                                                                                \n",
       "27914                                                  0.0                                                                                \n",
       "28753                                                  0.0                                                                                \n",
       "31385                                                  0.0                                                                                \n",
       "38084                                                  0.0                                                                                \n",
       "\n",
       "         Агентства по аренде автомобилей  \\\n",
       "user_id                                    \n",
       "22899                                0.0   \n",
       "27914                                0.0   \n",
       "28753                                0.0   \n",
       "31385                                0.0   \n",
       "38084                                0.0   \n",
       "\n",
       "         Агенты и менеджеры по аренде недвижимости  ...  \\\n",
       "user_id                                             ...   \n",
       "22899                                          0.0  ...   \n",
       "27914                                          0.0  ...   \n",
       "28753                                          0.0  ...   \n",
       "31385                                          0.0  ...   \n",
       "38084                                          0.0  ...   \n",
       "\n",
       "         Химикалии и смежные вещества, не классифицированные ранее  Химчистки  \\\n",
       "user_id                                                                         \n",
       "22899                                                  0.0                0.0   \n",
       "27914                                                  0.0                0.0   \n",
       "28753                                                  0.0                0.0   \n",
       "31385                                                  0.0                0.0   \n",
       "38084                                                  0.0                0.0   \n",
       "\n",
       "         Ценные бумаги: брокеры/дилеры  Центры здоровья  \\\n",
       "user_id                                                   \n",
       "22899                              0.0              0.0   \n",
       "27914                              0.0              0.0   \n",
       "28753                              0.0              0.0   \n",
       "31385                              0.0              0.0   \n",
       "38084                              0.0              0.0   \n",
       "\n",
       "         Цифровые товары, игры  Школы — бизнес и секретарей  Штрафы  \\\n",
       "user_id                                                               \n",
       "22899                      0.0                          0.0     0.0   \n",
       "27914                      0.0                          0.0     0.0   \n",
       "28753                      0.0                          0.0     0.0   \n",
       "31385                      0.0                          0.0     0.0   \n",
       "38084                      0.0                          0.0     0.0   \n",
       "\n",
       "         Штучные товары, галантерея и другие текстильные товары  \\\n",
       "user_id                                                           \n",
       "22899                                                  0.0        \n",
       "27914                                                  0.0        \n",
       "28753                                                  0.0        \n",
       "31385                                                  0.0        \n",
       "38084                                                  0.0        \n",
       "\n",
       "         Электрические части и оборудование  gender  \n",
       "user_id                                              \n",
       "22899                                   0.0     1.0  \n",
       "27914                                   0.0     1.0  \n",
       "28753                                   0.0     0.0  \n",
       "31385                                   0.0     0.0  \n",
       "38084                                   0.0     0.0  \n",
       "\n",
       "[5 rows x 185 columns]"
      ]
     },
     "execution_count": 828,
     "metadata": {},
     "output_type": "execute_result"
    }
   ],
   "source": [
    "df_better_agregate = pd.pivot_table(df_transactions, index=['user_id'],values=['value'], columns=['type'])\n",
    "df_better_agregate = df_better_agregate.fillna(0) #nan-ы меняю на 0, т.к. они означают отсутствие трат\n",
    "columns = []\n",
    "for column in df_better_agregate.columns.values: #после использования pivot-а названия столбцов сбились, некрасиво\n",
    "    columns.append(column[1])\n",
    "df_better_agregate.columns = columns\n",
    "df_better_agregate = df_better_agregate.join(df_gender.set_index('user_id'))\n",
    "last_chance2 = df_better_agregate #для 4 части\n",
    "df_better_agregate.head() #Я еще добавил гендер, чтобы остались только общие , так как количество user_id в таблице gender больше, чем в таблице транзакций"
   ]
  },
  {
   "cell_type": "markdown",
   "id": "ad21c6ef",
   "metadata": {},
   "source": [
    "## Обучение и валидация модели [5 баллов]"
   ]
  },
  {
   "cell_type": "markdown",
   "id": "39a87010",
   "metadata": {},
   "source": [
    "Аналогично предыдущей части разделите данные на обучающую и тестовую выборку (80%/20%), обучите модель на дефолтных параметрах и оцените качество."
   ]
  },
  {
   "cell_type": "code",
   "execution_count": 829,
   "id": "8aa668ce",
   "metadata": {},
   "outputs": [],
   "source": [
    "df_train, df_test = train_test_split(df_better_agregate, test_size = 0.2, stratify=df_agregate['gender'],  random_state=42)\n",
    "\n",
    "features = df_train.dtypes[df_train.dtypes != 'object'].index.values[:-1] #собственно, признаки, по которым будем предсказывать гендер\n",
    "\n",
    "y_train = df_train['gender']  #целевая переменная для test-а и train-а\n",
    "y_test = df_test['gender']\n",
    "\n",
    "x_train = df_train[features]   #регрессоры для test-а и train-а\n",
    "x_test = df_test[features]"
   ]
  },
  {
   "cell_type": "code",
   "execution_count": 830,
   "id": "ccab2f44",
   "metadata": {},
   "outputs": [],
   "source": [
    "log_regression = LogisticRegression(random_state=42)\n",
    "log_regression.fit(x_train, y_train)\n",
    "y_pred = log_regression.predict(x_test) #использует порог 0.5, как и надо, так как уточнений не было\n",
    "prob = log_regression.predict_proba(x_test)[:,1] #можно и вероятности первого класса вытащить"
   ]
  },
  {
   "cell_type": "code",
   "execution_count": 831,
   "id": "c024eda7",
   "metadata": {},
   "outputs": [
    {
     "name": "stdout",
     "output_type": "stream",
     "text": [
      "ROC_AUC: 0.8285615434947509\n",
      "Accuracy: 0.7440191387559809\n",
      "precision: 0.7492163009404389\n",
      "recall: 0.6407506702412868\n"
     ]
    }
   ],
   "source": [
    "print('ROC_AUC:', roc_auc_score(y_test, prob))\n",
    "print('Accuracy:', accuracy_score(y_test, y_pred))\n",
    "print('precision:', precision_score(y_test, y_pred))\n",
    "print('recall:', recall_score(y_test, y_pred))"
   ]
  },
  {
   "cell_type": "markdown",
   "id": "8f67c1fb",
   "metadata": {},
   "source": [
    "### Вывод:\n",
    "Качество значительно увеличилось. Очевидно, на это повлияло изменение в признаках. Большая дифференциация в признаках позволила лучше разделить мужчин и женщин по тому, на что они тратятся. Например, мужчины в среднем больше денег тратят на игры, а женщины - на аксессуары."
   ]
  },
  {
   "cell_type": "markdown",
   "id": "39eb4d89",
   "metadata": {},
   "source": [
    "# Часть 3: что мы всё про данные? Давайте про модель \n",
    "# [макс 30 баллов]"
   ]
  },
  {
   "cell_type": "markdown",
   "id": "381b15b7",
   "metadata": {},
   "source": [
    "## Нормирование данных [5 баллов] "
   ]
  },
  {
   "cell_type": "markdown",
   "id": "0a268750",
   "metadata": {},
   "source": [
    "Как мы знаем, линейные модели любят нормированные данные.\n",
    "\n",
    "Приведите значения всех признаков в отрезок [0, 1]\n",
    "\n",
    "__Замечание__: если вы используете метод, который удаляет информацию о названиях колонок - сохраните эти названия в отдельную переменную, вам это потом может понадобиться."
   ]
  },
  {
   "cell_type": "code",
   "execution_count": 832,
   "id": "7c34f5de",
   "metadata": {},
   "outputs": [
    {
     "data": {
      "text/plain": [
       "array([[0.        , 0.11913556, 0.        , ..., 0.        , 0.        ,\n",
       "        0.        ],\n",
       "       [0.        , 0.        , 0.        , ..., 0.        , 0.        ,\n",
       "        0.        ],\n",
       "       [0.        , 0.        , 0.        , ..., 0.        , 0.        ,\n",
       "        0.        ],\n",
       "       ...,\n",
       "       [0.        , 0.        , 0.        , ..., 0.        , 0.        ,\n",
       "        0.        ],\n",
       "       [0.        , 0.        , 0.        , ..., 0.        , 0.        ,\n",
       "        0.        ],\n",
       "       [0.        , 0.        , 0.        , ..., 0.        , 0.        ,\n",
       "        0.        ]])"
      ]
     },
     "execution_count": 832,
     "metadata": {},
     "output_type": "execute_result"
    }
   ],
   "source": [
    "column_transformer = ColumnTransformer(\n",
    "    [(\"normalize\", MinMaxScaler(), features)], #нормализуем признаки в отрезок (0,1), колонки уже сохранены в features\n",
    "    remainder=\"passthrough\"       #функция MinMaxScaler как раз нормирует, по умолчанию в (0, 1)\n",
    ")\n",
    "column_transformer.fit_transform(x_train)"
   ]
  },
  {
   "cell_type": "markdown",
   "id": "7adad023",
   "metadata": {},
   "source": [
    "## Подбор параметров [15 баллов]"
   ]
  },
  {
   "cell_type": "markdown",
   "id": "e3a63257",
   "metadata": {},
   "source": [
    "Подберите наилучшие параметры для модели линейной регрессии. Важные уточнения:\n",
    "\n",
    "* используйте перебор по сетке\n",
    "* в качестве метрики используйте ROC AUC\n",
    "* для оценки параметров делайте кросс-валидацию на 4 фолдах\n",
    "\n",
    "__Замечание__: у линейной регрессии множество доступных значений для некоторых параметров зависит от метода оптимизации (solver). Например, lbfgs-алгоритм не подерживает l1-регуляризацию.\n",
    "\n",
    "Поэтому действуйте шагами: сначала подберите solver, а потом уже переберите доступные для него параметры."
   ]
  },
  {
   "cell_type": "code",
   "execution_count": 833,
   "id": "61806627",
   "metadata": {},
   "outputs": [
    {
     "name": "stdout",
     "output_type": "stream",
     "text": [
      "precision: 0.7543035993740219\n",
      "recall: 0.646112600536193\n",
      "Accuracy:  lbfgs 0.7482057416267942\n",
      "ROC_AUC:  lbfgs 0.8331953282879461 \n",
      "\n",
      "precision: 0.7543035993740219\n",
      "recall: 0.646112600536193\n",
      "Accuracy:  liblinear 0.7482057416267942\n",
      "ROC_AUC:  liblinear 0.8332018425121165 \n",
      "\n",
      "precision: 0.7543035993740219\n",
      "recall: 0.646112600536193\n",
      "Accuracy:  newton-cg 0.7482057416267942\n",
      "ROC_AUC:  newton-cg 0.833183023642291 \n",
      "\n",
      "precision: 0.7543035993740219\n",
      "recall: 0.646112600536193\n",
      "Accuracy:  newton-cholesky 0.7482057416267942\n",
      "ROC_AUC:  newton-cholesky 0.8331779570234917 \n",
      "\n",
      "precision: 0.7543035993740219\n",
      "recall: 0.646112600536193\n",
      "Accuracy:  sag 0.7482057416267942\n",
      "ROC_AUC:  sag 0.833183023642291 \n",
      "\n",
      "precision: 0.7543035993740219\n",
      "recall: 0.646112600536193\n",
      "Accuracy:  saga 0.7482057416267942\n",
      "ROC_AUC:  saga 0.8331844712476622 \n",
      "\n",
      "[0.8332018425121165, 'liblinear'] [0.7482057416267942, 'lbfgs'] [0.7543035993740219, 'lbfgs'] [0.646112600536193, 'lbfgs']\n"
     ]
    }
   ],
   "source": [
    "def new_max(a, c, d):\n",
    "    if (a[0] < c): return [c, d]\n",
    "    else: return a\n",
    "\n",
    "\n",
    "solvers = ['lbfgs', 'liblinear', 'newton-cg', 'newton-cholesky', 'sag', 'saga']\n",
    "max_roc, max_accuracy, max_precision, max_recall  = [0, ''], [0, ''], [0, ''], [0, '']\n",
    "for i in solvers:\n",
    "    model = Pipeline(steps=[\n",
    "        ('normalizing', column_transformer),\n",
    "        ('regression', LogisticRegression(solver=i, random_state=42)) #чисто прогон с дефолтными параметрами, кроме solver-ов\n",
    "    ])                                                #можно было сразу тут тьюнить, но эту возможность оставлю на 4 часть)\n",
    "    model.fit(x_train, y_train)\n",
    "    y_pred = model.predict(x_test)\n",
    "    prob = model.predict_proba(x_test)[:,1]\n",
    "    \n",
    "    max_roc = new_max(max_roc, roc_auc_score(y_test, prob), i)\n",
    "    max_accuracy = new_max(max_accuracy, accuracy_score(y_test, y_pred), i)\n",
    "    max_precision = new_max(max_precision, precision_score(y_test, y_pred), i)\n",
    "    max_recall = new_max(max_recall, recall_score(y_test, y_pred), i)\n",
    "    \n",
    "    print('precision:', precision_score(y_test, y_pred))\n",
    "    print('recall:', recall_score(y_test, y_pred))     \n",
    "    print('Accuracy: ',i, accuracy_score(y_test, y_pred))\n",
    "    print('ROC_AUC: ',i, roc_auc_score(y_test, prob), '\\n')\n",
    "print(max_roc, max_accuracy, max_precision, max_recall)\n"
   ]
  },
  {
   "cell_type": "markdown",
   "id": "87597e9b",
   "metadata": {},
   "source": [
    "Вышло, что как будто 'lbfgs' лучший solver, однако если приглядеться к результатам, выходит, что результаты по precision, recall и Accuracy идентичны у всех solver-ов. Разница наблюдается только в ROC_AUC, где лучшим становится liblinear, а значит используем его. Ко всему прочему, у него целых два варианта penalty, что лучше чем у большинства других solver-ов."
   ]
  },
  {
   "cell_type": "markdown",
   "id": "74a8ab04",
   "metadata": {},
   "source": [
    "Я понял, что занимался хренью и надо было просто юзнуть GridSearchCV с параметрами solver-ов (удалять предыдущий код не стал, сравню его с этим)"
   ]
  },
  {
   "cell_type": "code",
   "execution_count": 834,
   "id": "c71a5c07",
   "metadata": {},
   "outputs": [
    {
     "name": "stdout",
     "output_type": "stream",
     "text": [
      "{'solver': 'lbfgs'}\n",
      "0.8123255561191217\n"
     ]
    }
   ],
   "source": [
    "model = LogisticRegression(random_state=42)#Не вышло в пайплайн пихнуть, выдает непонятную ошибку на этапе подгонки модели\n",
    "\n",
    "solvers = {'solver': ['lbfgs', 'liblinear', 'newton-cg', 'newton-cholesky', 'sag', 'saga']}\n",
    "\n",
    "grid = GridSearchCV(model, solvers, cv=4, scoring=\"roc_auc\", n_jobs=-1)\n",
    "grid.fit(column_transformer.fit_transform(x_train), y_train)#приходится вручную применять трансформер\n",
    "\n",
    "print(grid.best_params_)\n",
    "print(grid.best_score_)"
   ]
  },
  {
   "cell_type": "markdown",
   "id": "8dfd2101",
   "metadata": {},
   "source": [
    "Теперь лучшим солвером становится 'lbfgs', однако качество ROC_AUC немного просело, по сравнению с предыдущим значением у 'liblinear'. Это связано с поиском по решетке, что усредняет ROC_AUC, делая его не таким большим. Видимо, мое изначальное деление на трейн и тест довольно удачно)"
   ]
  },
  {
   "cell_type": "markdown",
   "id": "66e78b9a",
   "metadata": {},
   "source": [
    "Наконец-то пройдемся по другим гиперпараметрам. Я буду тюнить только по двум параметрам, так как 'lbfgs' не поддерживает l1: C и max_iter  "
   ]
  },
  {
   "cell_type": "code",
   "execution_count": 835,
   "id": "dd94520d",
   "metadata": {},
   "outputs": [
    {
     "name": "stdout",
     "output_type": "stream",
     "text": [
      "{'C': 0.18329807108324356, 'max_iter': 10}\n",
      "0.814234475762626\n"
     ]
    }
   ],
   "source": [
    "model = LogisticRegression(solver='lbfgs', penalty='l2', random_state=42)\n",
    "parameters = {\n",
    "    'C' : np.logspace(-2, 4, 20),\n",
    "    'max_iter' : np.linspace(0, 150, 15, dtype=int)\n",
    "}\n",
    "\n",
    "grid = GridSearchCV(model, parameters, cv=4, scoring=\"roc_auc\", n_jobs=-1) #работает долго, минутки 3\n",
    "grid.fit(column_transformer.fit_transform(x_train), y_train)#приходится вручную применять трансформер\n",
    "\n",
    "print(grid.best_params_)\n",
    "print(grid.best_score_)"
   ]
  },
  {
   "cell_type": "markdown",
   "id": "96202c01",
   "metadata": {},
   "source": [
    "Как ни странно, чем меньше итераций, тем лучше качество. С достаточно низкая, видимо требуется достаточно сильная регуляризация для оптимизации модели и отсутствия переобучения."
   ]
  },
  {
   "cell_type": "markdown",
   "id": "d6c296ef",
   "metadata": {},
   "source": [
    "Оцените качество лучшей модели на тестовых данных аналогично предыдущим задачам."
   ]
  },
  {
   "cell_type": "code",
   "execution_count": 836,
   "id": "a264b6ee",
   "metadata": {},
   "outputs": [],
   "source": [
    "model = Pipeline(steps=[\n",
    "    ('normalizing', column_transformer),\n",
    "    ('regression', LogisticRegression(solver='lbfgs', penalty='l2',C=grid.best_params_['C'],\n",
    "                                      max_iter=grid.best_params_['max_iter'], random_state=42))\n",
    "])\n",
    "model.fit(x_train, y_train)\n",
    "y_pred = model.predict(x_test) #использует порог 0.5, как и надо, так как уточнений не было\n",
    "prob = model.predict_proba(x_test)[:,1] #можно и вероятности первого класса вытащить"
   ]
  },
  {
   "cell_type": "code",
   "execution_count": 837,
   "id": "44c0580d",
   "metadata": {},
   "outputs": [
    {
     "name": "stdout",
     "output_type": "stream",
     "text": [
      "ROC_AUC: 0.8359392642690461\n",
      "Accuracy: 0.7464114832535885\n",
      "precision: 0.7555555555555555\n",
      "recall: 0.6380697050938338\n"
     ]
    }
   ],
   "source": [
    "print('ROC_AUC:', roc_auc_score(y_test, prob))\n",
    "print('Accuracy:', accuracy_score(y_test, y_pred))\n",
    "print('precision:', precision_score(y_test, y_pred))\n",
    "print('recall:', recall_score(y_test, y_pred))"
   ]
  },
  {
   "cell_type": "markdown",
   "id": "a5f49648",
   "metadata": {},
   "source": [
    "Получилось ли добиться лучше качества при подборе параметров?\n",
    "Почему так? \n",
    "\n",
    "Для чего мы использовали одновременно кросс-валидацию и отложенную тестовую выборку?\n",
    "\n",
    "__Ваш вывод__: Качество немного улучшилось по сравнению с дефолтными параметрами. Это произошло из-за точечной настройки параметров и нормализации изначальной выборки. Кросс-валидация использовалась для проверки различных значений параметров в разных конфигурациях выборки, для избежания удачных стечений обстоятельств и переоценки качества модели, как это произошло у меня с перебором solver-ов, где вышло, что при liblinear, ROC_AUC = 0.8332018425121165, что почти также хорошо по качеству, как финальная модель со всем тюнингом."
   ]
  },
  {
   "cell_type": "markdown",
   "id": "4db51ec9",
   "metadata": {},
   "source": [
    "## Подбор отсечения [5 баллов]"
   ]
  },
  {
   "cell_type": "markdown",
   "id": "9b9d5678",
   "metadata": {},
   "source": [
    "Ранее мы работали или с вероятностями из модели или с метками, полученных при отсечении по веростности с порогом 0.5.\n",
    "\n",
    "Стоит сказать, что порог 0.5 для разделения классов не всегда самый лучший. Часто нам нужно так подобрать порог, чтобы удовлетворить наши требования по точности и полноте.\n",
    "\n",
    "Давайте подберём порог, который максимизирует F_beta меру при условии, что нам полнота в 5 раз важнее точности.\n",
    "\n",
    "Вычислите наилучший порог и нарисуйте график зависимости этой метрики от порога разделения."
   ]
  },
  {
   "cell_type": "code",
   "execution_count": 838,
   "id": "6133e980",
   "metadata": {},
   "outputs": [
    {
     "name": "stdout",
     "output_type": "stream",
     "text": [
      "Лучший порог :  0.21212121212121213 \n",
      " Значение F_beta :  0.8547452547452549\n"
     ]
    }
   ],
   "source": [
    "def F(pr, re, a):\n",
    "    return (pr*re)/(a*re + (1-a)*pr)\n",
    "\n",
    "hresholds = np.linspace(0,1,100) #создаем пороги\n",
    "F_beta = np.array([[0, 0, 0, 0]])\n",
    "best = [0, 0]\n",
    "for i in hresholds:\n",
    "    y_pred = 1*(prob >= i)\n",
    "    F_beta = np.append(F_beta, [[fbeta_score(y_test, y_pred, beta=np.sqrt(5)), i, precision_score(y_test, y_pred), recall_score(y_test, y_pred)]],axis = 0)\n",
    "    best = new_max(best, F_beta[-1][0], F_beta[-1][1])\n",
    "    #print(F(precision_score(y_test, y_pred), recall_score(y_test, y_pred), 1/6), F_beta[-1][0]) #можно открыть для проверки совпадения\n",
    "    \n",
    "print(\"Лучший порог : \", best[1],'\\n', \"Значение F_beta : \", best[0])"
   ]
  },
  {
   "cell_type": "markdown",
   "id": "0fc829ee",
   "metadata": {},
   "source": [
    "Функция F, которую я написал, помогает понять, как работает F_beta и определить бету, соответствующую весам из условия. По сути, мы хотели взять среднее гармоническое с весами для точности и полноты, тем самым получив оценку F_beta. Однако, сама по себе формула F_beta, не отображает этого $F_\\beta = (1+\\beta^2)\\frac{precision*recall}{\\beta^2*precision + recall}$. Изначальная формула с весами такова : $\\frac{1}{\\frac{(1-\\alpha)}{precision} + \\frac{\\alpha}{recall}} = \\frac{precision*recall}{(1-\\alpha)*precision + \\alpha*recall} = \\frac{1}{\\alpha}\\frac{precision*recall}{(\\frac{1}{\\alpha} - 1)*precision + recall}$, откуда идет замена $\\beta^2 = (\\frac{1}{\\alpha} - 1)$. Поэтому моя функция работает как раз от весов, и если нужно, чтобы полнота была важнее точности в 5 раз, следовательно ее вес должен быть 1/6. При таком альфа, бета получается $\\sqrt5$. Проверяем, и показания F от альфа = 1/6 и fbeta_score от бета = $\\sqrt5$ сходятся (можно проверить, откомментив принт)."
   ]
  },
  {
   "cell_type": "code",
   "execution_count": 839,
   "id": "3fc39487",
   "metadata": {},
   "outputs": [
    {
     "data": {
      "image/png": "[encoded data removed]",
      "text/plain": [
       "<Figure size 1500x1000 with 1 Axes>"
      ]
     },
     "metadata": {},
     "output_type": "display_data"
    }
   ],
   "source": [
    "plt.figure(figsize=(15,10))\n",
    "plt.plot(F_beta[1:,1], F_beta[1:,0], label='F_beta')\n",
    "plt.plot(F_beta[1:,1], F_beta[1:,3], label='recall')\n",
    "plt.plot(F_beta[1:99,1], F_beta[1:99,2], label='precision')\n",
    "\n",
    "plt.title(\"Зависимость F_beta от величины порога\")\n",
    "plt.xlabel(\"порог\")\n",
    "plt.ylabel(\"F_beta\");\n",
    "plt.legend()\n",
    "plt.show()"
   ]
  },
  {
   "cell_type": "markdown",
   "id": "9a077d3b",
   "metadata": {},
   "source": [
    "Как видно по графику, F_beta почти везде убывает по порогу, так как мы задали очень высокое влияние полноты, также убывающей при росте порога. В этом случае влияние точности наблюдается лишь в начале, когда ее рост компенсирует относительно медленное падение полноты, что немного увеличивает F_beta."
   ]
  },
  {
   "cell_type": "markdown",
   "id": "3e53a723",
   "metadata": {},
   "source": [
    "## Интерпретация модели [5 баллов]"
   ]
  },
  {
   "cell_type": "markdown",
   "id": "fda297e1",
   "metadata": {},
   "source": [
    "Часто нам хочется интерпритировать предсказания модели - понять, как наши признаки влияют на её ответ.\n",
    "В случае сложных моделей сделать это не просто - чем сложнее модель, тем более сложные закономерности она извлекает и тем тяжелее нам их понять.\n",
    "\n",
    "Но в случае линейной регресии это просто сделать, посмотрев на её обучаемые параметры (вспоминайте!).\n",
    "\n",
    "Получите список признаков, которые увеличивают вероятность метки 0.\n",
    "Аналогично для метки 1."
   ]
  },
  {
   "cell_type": "code",
   "execution_count": 840,
   "id": "bb94339a",
   "metadata": {},
   "outputs": [],
   "source": [
    "prob_base = prob #сохраняю изначальные вероятности, когда есть все признаки"
   ]
  },
  {
   "cell_type": "markdown",
   "id": "1726e7b9",
   "metadata": {
    "scrolled": false
   },
   "source": [
    "Точный метод получения списка признаков не указали, поэтому использую первый способ, пришедший мне в голову. Для того, чтобы определить признаки, уменьшающие вероятность метки 1, я решил просто поочередно выкидывать по 1 признаку, и смотреть, как это влияет на вероятности выпадения метки 1. Если вероятности в среднем уменьшились, то есть сумма разностей вероятностей между изначальным вариантом, где есть все признаки, и новым вариантом выборки, где все признаки кроме одного, отрицательна - значит вероятность метки 1 увеличилась, иначе - уменьшилась. "
   ]
  },
  {
   "cell_type": "code",
   "execution_count": 841,
   "id": "3f0d0279",
   "metadata": {},
   "outputs": [
    {
     "name": "stdout",
     "output_type": "stream",
     "text": [
      "['Аптеки', 'Галереи/учреждения видеоигр', 'Лесо- и строительный материал', 'Магазины с продажей спиртных напитков на вынос (пиво, вино и ликер)', 'Обувные магазины', 'Одежда для всей семьи', 'Различные продовольственные магазины — рынки, магазины со спец-ассортиментом, продажа полуфабрикатов, фирменных блюд, продажа с помощью торговых автоматов', 'Рестораны, закусочные', 'Финансовые институты — снятие наличности автоматически']\n"
     ]
    }
   ],
   "source": [
    "incr_prob_1 = [] #список признаков увеличивающих 1\n",
    "incr_prob_0 = [] #список признаков увеличивающих 0\n",
    "for i in features:\n",
    "    model = LogisticRegression(solver='lbfgs', penalty='l2', C=0.18329807108324356, max_iter=10, random_state=42)\n",
    "    model.fit(minmax_scale(x_train.drop(i, axis=1)), y_train)\n",
    "    #y_pred = model.predict(x_test) #использует порог 0.5, как и надо, так как уточнений не было\n",
    "    prob = model.predict_proba(minmax_scale(x_test.drop(i, axis=1)))[:,1] #можно и вероятности первого класса вытащить\n",
    "    if((prob_base-prob).sum() < 0):incr_prob_1.append(i)\n",
    "    else: incr_prob_0.append(i)\n",
    "print(incr_prob_0) #решил вывести только этот список, так как другой очень большой"
   ]
  },
  {
   "cell_type": "markdown",
   "id": "f2925c7d",
   "metadata": {},
   "source": [
    "В результате видно, что , вероятно, гендер 0 это мужчины, так как признаки увеличивающие вероятность метки 0 больше подходят для мужчин (особенно спиртные напитки на вынос( ͡° ͜ʖ ͡° )). Хотя это неточно, так как признаков очень много и они сами по себе слабо влияют на метку (это видно по величинам разниц prob_base-prob, которые всегда в районе 1-2, учитывая, что это сумма по всем юзерам). "
   ]
  },
  {
   "cell_type": "markdown",
   "id": "93723beb",
   "metadata": {},
   "source": [
    "# Часть 4: ва-банк / пространство для творчества [макс 30 баллов]"
   ]
  },
  {
   "cell_type": "markdown",
   "id": "97dc0173",
   "metadata": {},
   "source": [
    "Добейтесь максимального качества, больше качество - больше баллов.\n",
    "\n",
    "Стратегия подготовки данных и обучения модели на ваше усмотрение.\n",
    "\n",
    "Условия:\n",
    "* Оценка на отложенной тестовой группе пользователей, использовавшейся в прошлых пунктах (20%)\n",
    "* В качестве метрики используйте ROC_AUC"
   ]
  },
  {
   "cell_type": "markdown",
   "id": "c560e741",
   "metadata": {},
   "source": [
    "Для увеличения качетсва я думаю во-первых, уменьшить количество признаков, выбрав из них самые главные и во-вторых, проводить GridSearch одновременно и для solver-ов и для остальных параметров, хотя это и увеличит время компиляции"
   ]
  },
  {
   "cell_type": "code",
   "execution_count": 842,
   "id": "93689c9b",
   "metadata": {},
   "outputs": [],
   "source": [
    "regress = [[0,0]]\n",
    "for feature in features:\n",
    "    k =  [float(f_regression(x_train[feature].to_frame() , y_train)[0]), feature] #собственно оценка \"силы\" признака\n",
    "    regress.append(k)\n",
    "best_features = sorted(regress[1:], key=lambda p: p[0], reverse = True)[:50] #берем лучшие 50 признаков\n",
    "#best_features"
   ]
  },
  {
   "cell_type": "markdown",
   "id": "94f580d8",
   "metadata": {},
   "source": [
    "Я снова написал бесполезный код, который имеет встроенные аналог у sklearn... Оствлю его сверху, можно сравнить с результатом функции SelectKBest, выводит одинаково, если у SelectKBest задать f_regression и соответствующий k (можно откомментить и посмотреть)"
   ]
  },
  {
   "cell_type": "code",
   "execution_count": 843,
   "id": "1b95199a",
   "metadata": {},
   "outputs": [],
   "source": [
    "same_best_features = SelectKBest(f_regression, k=50).fit(minmax_scale(x_train), y_train) #лучшие по f_regression с k=50\n",
    "same_best_features = same_best_features.get_feature_names_out(features) #выбираем нужные фичи\n",
    "#same_best_features"
   ]
  },
  {
   "cell_type": "code",
   "execution_count": 844,
   "id": "fac37125",
   "metadata": {},
   "outputs": [
    {
     "data": {
      "text/html": [
       "<style>#sk-container-id-14 {color: black;background-color: white;}#sk-container-id-14 pre{padding: 0;}#sk-container-id-14 div.sk-toggleable {background-color: white;}#sk-container-id-14 label.sk-toggleable__label {cursor: pointer;display: block;width: 100%;margin-bottom: 0;padding: 0.3em;box-sizing: border-box;text-align: center;}#sk-container-id-14 label.sk-toggleable__label-arrow:before {content: \"▸\";float: left;margin-right: 0.25em;color: #696969;}#sk-container-id-14 label.sk-toggleable__label-arrow:hover:before {color: black;}#sk-container-id-14 div.sk-estimator:hover label.sk-toggleable__label-arrow:before {color: black;}#sk-container-id-14 div.sk-toggleable__content {max-height: 0;max-width: 0;overflow: hidden;text-align: left;background-color: #f0f8ff;}#sk-container-id-14 div.sk-toggleable__content pre {margin: 0.2em;color: black;border-radius: 0.25em;background-color: #f0f8ff;}#sk-container-id-14 input.sk-toggleable__control:checked~div.sk-toggleable__content {max-height: 200px;max-width: 100%;overflow: auto;}#sk-container-id-14 input.sk-toggleable__control:checked~label.sk-toggleable__label-arrow:before {content: \"▾\";}#sk-container-id-14 div.sk-estimator input.sk-toggleable__control:checked~label.sk-toggleable__label {background-color: #d4ebff;}#sk-container-id-14 div.sk-label input.sk-toggleable__control:checked~label.sk-toggleable__label {background-color: #d4ebff;}#sk-container-id-14 input.sk-hidden--visually {border: 0;clip: rect(1px 1px 1px 1px);clip: rect(1px, 1px, 1px, 1px);height: 1px;margin: -1px;overflow: hidden;padding: 0;position: absolute;width: 1px;}#sk-container-id-14 div.sk-estimator {font-family: monospace;background-color: #f0f8ff;border: 1px dotted black;border-radius: 0.25em;box-sizing: border-box;margin-bottom: 0.5em;}#sk-container-id-14 div.sk-estimator:hover {background-color: #d4ebff;}#sk-container-id-14 div.sk-parallel-item::after {content: \"\";width: 100%;border-bottom: 1px solid gray;flex-grow: 1;}#sk-container-id-14 div.sk-label:hover label.sk-toggleable__label {background-color: #d4ebff;}#sk-container-id-14 div.sk-serial::before {content: \"\";position: absolute;border-left: 1px solid gray;box-sizing: border-box;top: 0;bottom: 0;left: 50%;z-index: 0;}#sk-container-id-14 div.sk-serial {display: flex;flex-direction: column;align-items: center;background-color: white;padding-right: 0.2em;padding-left: 0.2em;position: relative;}#sk-container-id-14 div.sk-item {position: relative;z-index: 1;}#sk-container-id-14 div.sk-parallel {display: flex;align-items: stretch;justify-content: center;background-color: white;position: relative;}#sk-container-id-14 div.sk-item::before, #sk-container-id-14 div.sk-parallel-item::before {content: \"\";position: absolute;border-left: 1px solid gray;box-sizing: border-box;top: 0;bottom: 0;left: 50%;z-index: -1;}#sk-container-id-14 div.sk-parallel-item {display: flex;flex-direction: column;z-index: 1;position: relative;background-color: white;}#sk-container-id-14 div.sk-parallel-item:first-child::after {align-self: flex-end;width: 50%;}#sk-container-id-14 div.sk-parallel-item:last-child::after {align-self: flex-start;width: 50%;}#sk-container-id-14 div.sk-parallel-item:only-child::after {width: 0;}#sk-container-id-14 div.sk-dashed-wrapped {border: 1px dashed gray;margin: 0 0.4em 0.5em 0.4em;box-sizing: border-box;padding-bottom: 0.4em;background-color: white;}#sk-container-id-14 div.sk-label label {font-family: monospace;font-weight: bold;display: inline-block;line-height: 1.2em;}#sk-container-id-14 div.sk-label-container {text-align: center;}#sk-container-id-14 div.sk-container {/* jupyter's `normalize.less` sets `[hidden] { display: none; }` but bootstrap.min.css set `[hidden] { display: none !important; }` so we also need the `!important` here to be able to override the default hidden behavior on the sphinx rendered scikit-learn.org. See: https://github.com/scikit-learn/scikit-learn/issues/21755 */display: inline-block !important;position: relative;}#sk-container-id-14 div.sk-text-repr-fallback {display: none;}</style><div id=\"sk-container-id-14\" class=\"sk-top-container\"><div class=\"sk-text-repr-fallback\"><pre>GridSearchCV(cv=5, estimator=LogisticRegression(random_state=42), n_jobs=-1,\n",
       "             param_grid={&#x27;C&#x27;: array([1.00000000e-02, 1.42510267e-02, 2.03091762e-02, 2.89426612e-02,\n",
       "       4.12462638e-02, 5.87801607e-02, 8.37677640e-02, 1.19377664e-01,\n",
       "       1.70125428e-01, 2.42446202e-01, 3.45510729e-01, 4.92388263e-01,\n",
       "       7.01703829e-01, 1.00000000e+00, 1.42510267e+00, 2.03091762e+00,\n",
       "       2.89426612e+0...\n",
       "       4.92388263e+01, 7.01703829e+01, 1.00000000e+02, 1.42510267e+02,\n",
       "       2.03091762e+02, 2.89426612e+02, 4.12462638e+02, 5.87801607e+02,\n",
       "       8.37677640e+02, 1.19377664e+03, 1.70125428e+03, 2.42446202e+03,\n",
       "       3.45510729e+03, 4.92388263e+03, 7.01703829e+03, 1.00000000e+04]),\n",
       "                         &#x27;penalty&#x27;: [&#x27;l1&#x27;, &#x27;l2&#x27;, &#x27;elasticnet&#x27;],\n",
       "                         &#x27;solver&#x27;: [&#x27;lbfgs&#x27;, &#x27;liblinear&#x27;, &#x27;newton-cg&#x27;,\n",
       "                                    &#x27;newton-cholesky&#x27;, &#x27;sag’, ‘saga&#x27;]},\n",
       "             scoring=&#x27;roc_auc&#x27;)</pre><b>In a Jupyter environment, please rerun this cell to show the HTML representation or trust the notebook. <br />On GitHub, the HTML representation is unable to render, please try loading this page with nbviewer.org.</b></div><div class=\"sk-container\" hidden><div class=\"sk-item sk-dashed-wrapped\"><div class=\"sk-label-container\"><div class=\"sk-label sk-toggleable\"><input class=\"sk-toggleable__control sk-hidden--visually\" id=\"sk-estimator-id-44\" type=\"checkbox\" ><label for=\"sk-estimator-id-44\" class=\"sk-toggleable__label sk-toggleable__label-arrow\">GridSearchCV</label><div class=\"sk-toggleable__content\"><pre>GridSearchCV(cv=5, estimator=LogisticRegression(random_state=42), n_jobs=-1,\n",
       "             param_grid={&#x27;C&#x27;: array([1.00000000e-02, 1.42510267e-02, 2.03091762e-02, 2.89426612e-02,\n",
       "       4.12462638e-02, 5.87801607e-02, 8.37677640e-02, 1.19377664e-01,\n",
       "       1.70125428e-01, 2.42446202e-01, 3.45510729e-01, 4.92388263e-01,\n",
       "       7.01703829e-01, 1.00000000e+00, 1.42510267e+00, 2.03091762e+00,\n",
       "       2.89426612e+0...\n",
       "       4.92388263e+01, 7.01703829e+01, 1.00000000e+02, 1.42510267e+02,\n",
       "       2.03091762e+02, 2.89426612e+02, 4.12462638e+02, 5.87801607e+02,\n",
       "       8.37677640e+02, 1.19377664e+03, 1.70125428e+03, 2.42446202e+03,\n",
       "       3.45510729e+03, 4.92388263e+03, 7.01703829e+03, 1.00000000e+04]),\n",
       "                         &#x27;penalty&#x27;: [&#x27;l1&#x27;, &#x27;l2&#x27;, &#x27;elasticnet&#x27;],\n",
       "                         &#x27;solver&#x27;: [&#x27;lbfgs&#x27;, &#x27;liblinear&#x27;, &#x27;newton-cg&#x27;,\n",
       "                                    &#x27;newton-cholesky&#x27;, &#x27;sag’, ‘saga&#x27;]},\n",
       "             scoring=&#x27;roc_auc&#x27;)</pre></div></div></div><div class=\"sk-parallel\"><div class=\"sk-parallel-item\"><div class=\"sk-item\"><div class=\"sk-label-container\"><div class=\"sk-label sk-toggleable\"><input class=\"sk-toggleable__control sk-hidden--visually\" id=\"sk-estimator-id-45\" type=\"checkbox\" ><label for=\"sk-estimator-id-45\" class=\"sk-toggleable__label sk-toggleable__label-arrow\">estimator: LogisticRegression</label><div class=\"sk-toggleable__content\"><pre>LogisticRegression(random_state=42)</pre></div></div></div><div class=\"sk-serial\"><div class=\"sk-item\"><div class=\"sk-estimator sk-toggleable\"><input class=\"sk-toggleable__control sk-hidden--visually\" id=\"sk-estimator-id-46\" type=\"checkbox\" ><label for=\"sk-estimator-id-46\" class=\"sk-toggleable__label sk-toggleable__label-arrow\">LogisticRegression</label><div class=\"sk-toggleable__content\"><pre>LogisticRegression(random_state=42)</pre></div></div></div></div></div></div></div></div></div></div>"
      ],
      "text/plain": [
       "GridSearchCV(cv=5, estimator=LogisticRegression(random_state=42), n_jobs=-1,\n",
       "             param_grid={'C': array([1.00000000e-02, 1.42510267e-02, 2.03091762e-02, 2.89426612e-02,\n",
       "       4.12462638e-02, 5.87801607e-02, 8.37677640e-02, 1.19377664e-01,\n",
       "       1.70125428e-01, 2.42446202e-01, 3.45510729e-01, 4.92388263e-01,\n",
       "       7.01703829e-01, 1.00000000e+00, 1.42510267e+00, 2.03091762e+00,\n",
       "       2.89426612e+0...\n",
       "       4.92388263e+01, 7.01703829e+01, 1.00000000e+02, 1.42510267e+02,\n",
       "       2.03091762e+02, 2.89426612e+02, 4.12462638e+02, 5.87801607e+02,\n",
       "       8.37677640e+02, 1.19377664e+03, 1.70125428e+03, 2.42446202e+03,\n",
       "       3.45510729e+03, 4.92388263e+03, 7.01703829e+03, 1.00000000e+04]),\n",
       "                         'penalty': ['l1', 'l2', 'elasticnet'],\n",
       "                         'solver': ['lbfgs', 'liblinear', 'newton-cg',\n",
       "                                    'newton-cholesky', 'sag’, ‘saga']},\n",
       "             scoring='roc_auc')"
      ]
     },
     "execution_count": 844,
     "metadata": {},
     "output_type": "execute_result"
    }
   ],
   "source": [
    "model = LogisticRegression(random_state=42)\n",
    "parameters = {\n",
    "    'solver' : ['lbfgs', 'liblinear', 'newton-cg', 'newton-cholesky', 'sag’, ‘saga'], \n",
    "    'penalty' : ['l1', 'l2', 'elasticnet'],  #я не знаю как, но работает без ошибок, несмотря на несовметимость некоторых солверов и пенальти\n",
    "    'C' : np.logspace(-2, 4, 40),\n",
    "}\n",
    "\n",
    "grid = GridSearchCV(model, parameters, cv=5, scoring=\"roc_auc\", n_jobs=-1)\n",
    "grid.fit(minmax_scale(x_train[same_best_features]), y_train)#применяем нормализацию и выбираем нужные признаки"
   ]
  },
  {
   "cell_type": "code",
   "execution_count": 845,
   "id": "7a501374",
   "metadata": {},
   "outputs": [
    {
     "name": "stdout",
     "output_type": "stream",
     "text": [
      "ROC_AUC: 0.8349975969750838\n"
     ]
    }
   ],
   "source": [
    "model = LogisticRegression(solver=grid.best_params_['solver'], penalty=grid.best_params_['penalty'],\n",
    "                           C=grid.best_params_['C'],\n",
    "                           random_state=42)\n",
    "model.fit(minmax_scale(x_train[same_best_features]), y_train)\n",
    "prob = model.predict_proba(minmax_scale(x_test[same_best_features]))[:,1]\n",
    "print('ROC_AUC:', roc_auc_score(y_test, prob))"
   ]
  },
  {
   "cell_type": "markdown",
   "id": "b8534521",
   "metadata": {},
   "source": [
    "Обычные методы по подбору нужных признаков не оказали влияния, метрика даже немного уменьшилась (я в SelectKBest перебирал всевозможные одномерные отборочные функции как : f_classif, f_regression, chi2, mutual_info_regression, связывающие признаки с целевой меткой). При увеличении количества признаков (k) метрика ROC_AUC стабильно росла, что говорит о низком качетве одномерных отборочных функций (или их непригодности к этому датасету). Поэтому подключим более мощный аппарат из библиотеки mlxtend (ее надо отдельно грузить)."
   ]
  },
  {
   "cell_type": "code",
   "execution_count": 846,
   "id": "0175b7f7",
   "metadata": {},
   "outputs": [
    {
     "ename": "KeyboardInterrupt",
     "evalue": "",
     "output_type": "error",
     "traceback": [
      "\u001b[1;31m---------------------------------------------------------------------------\u001b[0m",
      "\u001b[1;31mKeyboardInterrupt\u001b[0m                         Traceback (most recent call last)",
      "Cell \u001b[1;32mIn[846], line 7\u001b[0m\n\u001b[0;32m      1\u001b[0m efs \u001b[38;5;241m=\u001b[39m ExhaustiveFeatureSelector(LogisticRegression(),\n\u001b[0;32m      2\u001b[0m         min_features\u001b[38;5;241m=\u001b[39m\u001b[38;5;241m1\u001b[39m, \u001b[38;5;66;03m#минимальный размер комбинаций\u001b[39;00m\n\u001b[0;32m      3\u001b[0m         max_features\u001b[38;5;241m=\u001b[39m\u001b[38;5;241m10\u001b[39m, \u001b[38;5;66;03m#максимальный размер комбинаций\u001b[39;00m\n\u001b[0;32m      4\u001b[0m         scoring\u001b[38;5;241m=\u001b[39m\u001b[38;5;124m'\u001b[39m\u001b[38;5;124mroc_auc\u001b[39m\u001b[38;5;124m'\u001b[39m,\n\u001b[0;32m      5\u001b[0m         cv\u001b[38;5;241m=\u001b[39m\u001b[38;5;241m10\u001b[39m, n_jobs\u001b[38;5;241m=\u001b[39m\u001b[38;5;241m-\u001b[39m\u001b[38;5;241m1\u001b[39m)\n\u001b[1;32m----> 7\u001b[0m efs \u001b[38;5;241m=\u001b[39m \u001b[43mefs\u001b[49m\u001b[38;5;241;43m.\u001b[39;49m\u001b[43mfit\u001b[49m\u001b[43m(\u001b[49m\u001b[43mminmax_scale\u001b[49m\u001b[43m(\u001b[49m\u001b[43mx_train\u001b[49m\u001b[43m[\u001b[49m\u001b[43msame_best_features\u001b[49m\u001b[43m]\u001b[49m\u001b[43m)\u001b[49m\u001b[43m,\u001b[49m\u001b[43m \u001b[49m\u001b[43my_train\u001b[49m\u001b[43m)\u001b[49m\n",
      "File \u001b[1;32m~\\anaconda3\\lib\\site-packages\\mlxtend\\feature_selection\\exhaustive_feature_selector.py:444\u001b[0m, in \u001b[0;36mExhaustiveFeatureSelector.fit\u001b[1;34m(self, X, y, groups, **fit_params)\u001b[0m\n\u001b[0;32m    441\u001b[0m n_jobs \u001b[38;5;241m=\u001b[39m \u001b[38;5;28mmin\u001b[39m(\u001b[38;5;28mself\u001b[39m\u001b[38;5;241m.\u001b[39mn_jobs, all_comb)\n\u001b[0;32m    442\u001b[0m parallel \u001b[38;5;241m=\u001b[39m Parallel(n_jobs\u001b[38;5;241m=\u001b[39mn_jobs, pre_dispatch\u001b[38;5;241m=\u001b[39m\u001b[38;5;28mself\u001b[39m\u001b[38;5;241m.\u001b[39mpre_dispatch)\n\u001b[0;32m    443\u001b[0m work \u001b[38;5;241m=\u001b[39m \u001b[38;5;28menumerate\u001b[39m(\n\u001b[1;32m--> 444\u001b[0m     \u001b[43mparallel\u001b[49m\u001b[43m(\u001b[49m\n\u001b[0;32m    445\u001b[0m \u001b[43m        \u001b[49m\u001b[43mdelayed\u001b[49m\u001b[43m(\u001b[49m\u001b[43m_calc_score\u001b[49m\u001b[43m)\u001b[49m\u001b[43m(\u001b[49m\n\u001b[0;32m    446\u001b[0m \u001b[43m            \u001b[49m\u001b[38;5;28;43mself\u001b[39;49m\u001b[43m,\u001b[49m\n\u001b[0;32m    447\u001b[0m \u001b[43m            \u001b[49m\u001b[43mX_\u001b[49m\u001b[43m,\u001b[49m\n\u001b[0;32m    448\u001b[0m \u001b[43m            \u001b[49m\u001b[43my\u001b[49m\u001b[43m,\u001b[49m\n\u001b[0;32m    449\u001b[0m \u001b[43m            \u001b[49m\u001b[38;5;28;43mlist\u001b[39;49m\u001b[43m(\u001b[49m\u001b[38;5;28;43mset\u001b[39;49m\u001b[43m(\u001b[49m\u001b[43mc\u001b[49m\u001b[43m)\u001b[49m\u001b[38;5;241;43m.\u001b[39;49m\u001b[43munion\u001b[49m\u001b[43m(\u001b[49m\u001b[38;5;28;43mself\u001b[39;49m\u001b[38;5;241;43m.\u001b[39;49m\u001b[43mfixed_features_group_set\u001b[49m\u001b[43m)\u001b[49m\u001b[43m)\u001b[49m\u001b[43m,\u001b[49m\n\u001b[0;32m    450\u001b[0m \u001b[43m            \u001b[49m\u001b[43mgroups\u001b[49m\u001b[38;5;241;43m=\u001b[39;49m\u001b[43mgroups\u001b[49m\u001b[43m,\u001b[49m\n\u001b[0;32m    451\u001b[0m \u001b[43m            \u001b[49m\u001b[43mfeature_groups\u001b[49m\u001b[38;5;241;43m=\u001b[39;49m\u001b[38;5;28;43mself\u001b[39;49m\u001b[38;5;241;43m.\u001b[39;49m\u001b[43mfeature_groups\u001b[49m\u001b[43m,\u001b[49m\n\u001b[0;32m    452\u001b[0m \u001b[43m            \u001b[49m\u001b[38;5;241;43m*\u001b[39;49m\u001b[38;5;241;43m*\u001b[39;49m\u001b[43mfit_params\u001b[49m\u001b[43m,\u001b[49m\n\u001b[0;32m    453\u001b[0m \u001b[43m        \u001b[49m\u001b[43m)\u001b[49m\n\u001b[0;32m    454\u001b[0m \u001b[43m        \u001b[49m\u001b[38;5;28;43;01mfor\u001b[39;49;00m\u001b[43m \u001b[49m\u001b[43mc\u001b[49m\u001b[43m \u001b[49m\u001b[38;5;129;43;01min\u001b[39;49;00m\u001b[43m \u001b[49m\u001b[43mcandidates\u001b[49m\n\u001b[0;32m    455\u001b[0m \u001b[43m    \u001b[49m\u001b[43m)\u001b[49m\n\u001b[0;32m    456\u001b[0m )\n\u001b[0;32m    458\u001b[0m \u001b[38;5;28;01mtry\u001b[39;00m:\n\u001b[0;32m    459\u001b[0m     \u001b[38;5;28;01mfor\u001b[39;00m iteration, (indices, cv_scores) \u001b[38;5;129;01min\u001b[39;00m work:\n",
      "File \u001b[1;32m~\\anaconda3\\lib\\site-packages\\joblib\\parallel.py:1061\u001b[0m, in \u001b[0;36mParallel.__call__\u001b[1;34m(self, iterable)\u001b[0m\n\u001b[0;32m   1058\u001b[0m     \u001b[38;5;28mself\u001b[39m\u001b[38;5;241m.\u001b[39m_iterating \u001b[38;5;241m=\u001b[39m \u001b[38;5;28;01mFalse\u001b[39;00m\n\u001b[0;32m   1060\u001b[0m \u001b[38;5;28;01mwith\u001b[39;00m \u001b[38;5;28mself\u001b[39m\u001b[38;5;241m.\u001b[39m_backend\u001b[38;5;241m.\u001b[39mretrieval_context():\n\u001b[1;32m-> 1061\u001b[0m     \u001b[38;5;28;43mself\u001b[39;49m\u001b[38;5;241;43m.\u001b[39;49m\u001b[43mretrieve\u001b[49m\u001b[43m(\u001b[49m\u001b[43m)\u001b[49m\n\u001b[0;32m   1062\u001b[0m \u001b[38;5;66;03m# Make sure that we get a last message telling us we are done\u001b[39;00m\n\u001b[0;32m   1063\u001b[0m elapsed_time \u001b[38;5;241m=\u001b[39m time\u001b[38;5;241m.\u001b[39mtime() \u001b[38;5;241m-\u001b[39m \u001b[38;5;28mself\u001b[39m\u001b[38;5;241m.\u001b[39m_start_time\n",
      "File \u001b[1;32m~\\anaconda3\\lib\\site-packages\\joblib\\parallel.py:938\u001b[0m, in \u001b[0;36mParallel.retrieve\u001b[1;34m(self)\u001b[0m\n\u001b[0;32m    936\u001b[0m \u001b[38;5;28;01mtry\u001b[39;00m:\n\u001b[0;32m    937\u001b[0m     \u001b[38;5;28;01mif\u001b[39;00m \u001b[38;5;28mgetattr\u001b[39m(\u001b[38;5;28mself\u001b[39m\u001b[38;5;241m.\u001b[39m_backend, \u001b[38;5;124m'\u001b[39m\u001b[38;5;124msupports_timeout\u001b[39m\u001b[38;5;124m'\u001b[39m, \u001b[38;5;28;01mFalse\u001b[39;00m):\n\u001b[1;32m--> 938\u001b[0m         \u001b[38;5;28mself\u001b[39m\u001b[38;5;241m.\u001b[39m_output\u001b[38;5;241m.\u001b[39mextend(\u001b[43mjob\u001b[49m\u001b[38;5;241;43m.\u001b[39;49m\u001b[43mget\u001b[49m\u001b[43m(\u001b[49m\u001b[43mtimeout\u001b[49m\u001b[38;5;241;43m=\u001b[39;49m\u001b[38;5;28;43mself\u001b[39;49m\u001b[38;5;241;43m.\u001b[39;49m\u001b[43mtimeout\u001b[49m\u001b[43m)\u001b[49m)\n\u001b[0;32m    939\u001b[0m     \u001b[38;5;28;01melse\u001b[39;00m:\n\u001b[0;32m    940\u001b[0m         \u001b[38;5;28mself\u001b[39m\u001b[38;5;241m.\u001b[39m_output\u001b[38;5;241m.\u001b[39mextend(job\u001b[38;5;241m.\u001b[39mget())\n",
      "File \u001b[1;32m~\\anaconda3\\lib\\site-packages\\joblib\\_parallel_backends.py:542\u001b[0m, in \u001b[0;36mLokyBackend.wrap_future_result\u001b[1;34m(future, timeout)\u001b[0m\n\u001b[0;32m    539\u001b[0m \u001b[38;5;124;03m\"\"\"Wrapper for Future.result to implement the same behaviour as\u001b[39;00m\n\u001b[0;32m    540\u001b[0m \u001b[38;5;124;03mAsyncResults.get from multiprocessing.\"\"\"\u001b[39;00m\n\u001b[0;32m    541\u001b[0m \u001b[38;5;28;01mtry\u001b[39;00m:\n\u001b[1;32m--> 542\u001b[0m     \u001b[38;5;28;01mreturn\u001b[39;00m \u001b[43mfuture\u001b[49m\u001b[38;5;241;43m.\u001b[39;49m\u001b[43mresult\u001b[49m\u001b[43m(\u001b[49m\u001b[43mtimeout\u001b[49m\u001b[38;5;241;43m=\u001b[39;49m\u001b[43mtimeout\u001b[49m\u001b[43m)\u001b[49m\n\u001b[0;32m    543\u001b[0m \u001b[38;5;28;01mexcept\u001b[39;00m CfTimeoutError \u001b[38;5;28;01mas\u001b[39;00m e:\n\u001b[0;32m    544\u001b[0m     \u001b[38;5;28;01mraise\u001b[39;00m \u001b[38;5;167;01mTimeoutError\u001b[39;00m \u001b[38;5;28;01mfrom\u001b[39;00m \u001b[38;5;21;01me\u001b[39;00m\n",
      "File \u001b[1;32m~\\anaconda3\\lib\\concurrent\\futures\\_base.py:453\u001b[0m, in \u001b[0;36mFuture.result\u001b[1;34m(self, timeout)\u001b[0m\n\u001b[0;32m    450\u001b[0m \u001b[38;5;28;01melif\u001b[39;00m \u001b[38;5;28mself\u001b[39m\u001b[38;5;241m.\u001b[39m_state \u001b[38;5;241m==\u001b[39m FINISHED:\n\u001b[0;32m    451\u001b[0m     \u001b[38;5;28;01mreturn\u001b[39;00m \u001b[38;5;28mself\u001b[39m\u001b[38;5;241m.\u001b[39m__get_result()\n\u001b[1;32m--> 453\u001b[0m \u001b[38;5;28;43mself\u001b[39;49m\u001b[38;5;241;43m.\u001b[39;49m\u001b[43m_condition\u001b[49m\u001b[38;5;241;43m.\u001b[39;49m\u001b[43mwait\u001b[49m\u001b[43m(\u001b[49m\u001b[43mtimeout\u001b[49m\u001b[43m)\u001b[49m\n\u001b[0;32m    455\u001b[0m \u001b[38;5;28;01mif\u001b[39;00m \u001b[38;5;28mself\u001b[39m\u001b[38;5;241m.\u001b[39m_state \u001b[38;5;129;01min\u001b[39;00m [CANCELLED, CANCELLED_AND_NOTIFIED]:\n\u001b[0;32m    456\u001b[0m     \u001b[38;5;28;01mraise\u001b[39;00m CancelledError()\n",
      "File \u001b[1;32m~\\anaconda3\\lib\\threading.py:320\u001b[0m, in \u001b[0;36mCondition.wait\u001b[1;34m(self, timeout)\u001b[0m\n\u001b[0;32m    318\u001b[0m \u001b[38;5;28;01mtry\u001b[39;00m:    \u001b[38;5;66;03m# restore state no matter what (e.g., KeyboardInterrupt)\u001b[39;00m\n\u001b[0;32m    319\u001b[0m     \u001b[38;5;28;01mif\u001b[39;00m timeout \u001b[38;5;129;01mis\u001b[39;00m \u001b[38;5;28;01mNone\u001b[39;00m:\n\u001b[1;32m--> 320\u001b[0m         \u001b[43mwaiter\u001b[49m\u001b[38;5;241;43m.\u001b[39;49m\u001b[43macquire\u001b[49m\u001b[43m(\u001b[49m\u001b[43m)\u001b[49m\n\u001b[0;32m    321\u001b[0m         gotit \u001b[38;5;241m=\u001b[39m \u001b[38;5;28;01mTrue\u001b[39;00m\n\u001b[0;32m    322\u001b[0m     \u001b[38;5;28;01melse\u001b[39;00m:\n",
      "\u001b[1;31mKeyboardInterrupt\u001b[0m: "
     ]
    }
   ],
   "source": [
    "efs = ExhaustiveFeatureSelector(LogisticRegression(),\n",
    "        min_features=1, #минимальный размер комбинаций\n",
    "        max_features=10, #максимальный размер комбинаций\n",
    "        scoring='roc_auc',\n",
    "        cv=10, n_jobs=-1)\n",
    "\n",
    "efs = efs.fit(minmax_scale(x_train[same_best_features]), y_train)"
   ]
  },
  {
   "cell_type": "markdown",
   "id": "aa8d669c",
   "metadata": {},
   "source": [
    "Этот перебор называется исчерпывающим, и он перебирает вообще ВСЕ кобинации признаков в указанных пределах. По идее, эта функция может найти самый оптимальный набор признаков, однако работает она нереально долго, тут обычного компа не хватит (я оставлял только лучшие фичи, найденные еще в SelectKBest, уменьшая их количество до 15, и все равно не дождался результата). Поэтому выберу что-нибудь попроще, например прямой отбор признаков."
   ]
  },
  {
   "cell_type": "code",
   "execution_count": 739,
   "id": "271265fc",
   "metadata": {},
   "outputs": [],
   "source": [
    "sfs = SequentialFeatureSelector(LogisticRegression(), scoring='roc_auc',cv=5 , n_jobs=-1)\n",
    " \n",
    "sfs.fit(minmax_scale(x_train[same_best_features]), y_train) #опять пришлось уменьшить число признаков до same_best_features, т.к.\n",
    "new_best_features = sfs.get_feature_names_out(same_best_features)  #иначе не компилируется и за 10 минут"
   ]
  },
  {
   "cell_type": "code",
   "execution_count": 764,
   "id": "f937b9c2",
   "metadata": {},
   "outputs": [
    {
     "data": {
      "text/html": [
       "<style>#sk-container-id-12 {color: black;background-color: white;}#sk-container-id-12 pre{padding: 0;}#sk-container-id-12 div.sk-toggleable {background-color: white;}#sk-container-id-12 label.sk-toggleable__label {cursor: pointer;display: block;width: 100%;margin-bottom: 0;padding: 0.3em;box-sizing: border-box;text-align: center;}#sk-container-id-12 label.sk-toggleable__label-arrow:before {content: \"▸\";float: left;margin-right: 0.25em;color: #696969;}#sk-container-id-12 label.sk-toggleable__label-arrow:hover:before {color: black;}#sk-container-id-12 div.sk-estimator:hover label.sk-toggleable__label-arrow:before {color: black;}#sk-container-id-12 div.sk-toggleable__content {max-height: 0;max-width: 0;overflow: hidden;text-align: left;background-color: #f0f8ff;}#sk-container-id-12 div.sk-toggleable__content pre {margin: 0.2em;color: black;border-radius: 0.25em;background-color: #f0f8ff;}#sk-container-id-12 input.sk-toggleable__control:checked~div.sk-toggleable__content {max-height: 200px;max-width: 100%;overflow: auto;}#sk-container-id-12 input.sk-toggleable__control:checked~label.sk-toggleable__label-arrow:before {content: \"▾\";}#sk-container-id-12 div.sk-estimator input.sk-toggleable__control:checked~label.sk-toggleable__label {background-color: #d4ebff;}#sk-container-id-12 div.sk-label input.sk-toggleable__control:checked~label.sk-toggleable__label {background-color: #d4ebff;}#sk-container-id-12 input.sk-hidden--visually {border: 0;clip: rect(1px 1px 1px 1px);clip: rect(1px, 1px, 1px, 1px);height: 1px;margin: -1px;overflow: hidden;padding: 0;position: absolute;width: 1px;}#sk-container-id-12 div.sk-estimator {font-family: monospace;background-color: #f0f8ff;border: 1px dotted black;border-radius: 0.25em;box-sizing: border-box;margin-bottom: 0.5em;}#sk-container-id-12 div.sk-estimator:hover {background-color: #d4ebff;}#sk-container-id-12 div.sk-parallel-item::after {content: \"\";width: 100%;border-bottom: 1px solid gray;flex-grow: 1;}#sk-container-id-12 div.sk-label:hover label.sk-toggleable__label {background-color: #d4ebff;}#sk-container-id-12 div.sk-serial::before {content: \"\";position: absolute;border-left: 1px solid gray;box-sizing: border-box;top: 0;bottom: 0;left: 50%;z-index: 0;}#sk-container-id-12 div.sk-serial {display: flex;flex-direction: column;align-items: center;background-color: white;padding-right: 0.2em;padding-left: 0.2em;position: relative;}#sk-container-id-12 div.sk-item {position: relative;z-index: 1;}#sk-container-id-12 div.sk-parallel {display: flex;align-items: stretch;justify-content: center;background-color: white;position: relative;}#sk-container-id-12 div.sk-item::before, #sk-container-id-12 div.sk-parallel-item::before {content: \"\";position: absolute;border-left: 1px solid gray;box-sizing: border-box;top: 0;bottom: 0;left: 50%;z-index: -1;}#sk-container-id-12 div.sk-parallel-item {display: flex;flex-direction: column;z-index: 1;position: relative;background-color: white;}#sk-container-id-12 div.sk-parallel-item:first-child::after {align-self: flex-end;width: 50%;}#sk-container-id-12 div.sk-parallel-item:last-child::after {align-self: flex-start;width: 50%;}#sk-container-id-12 div.sk-parallel-item:only-child::after {width: 0;}#sk-container-id-12 div.sk-dashed-wrapped {border: 1px dashed gray;margin: 0 0.4em 0.5em 0.4em;box-sizing: border-box;padding-bottom: 0.4em;background-color: white;}#sk-container-id-12 div.sk-label label {font-family: monospace;font-weight: bold;display: inline-block;line-height: 1.2em;}#sk-container-id-12 div.sk-label-container {text-align: center;}#sk-container-id-12 div.sk-container {/* jupyter's `normalize.less` sets `[hidden] { display: none; }` but bootstrap.min.css set `[hidden] { display: none !important; }` so we also need the `!important` here to be able to override the default hidden behavior on the sphinx rendered scikit-learn.org. See: https://github.com/scikit-learn/scikit-learn/issues/21755 */display: inline-block !important;position: relative;}#sk-container-id-12 div.sk-text-repr-fallback {display: none;}</style><div id=\"sk-container-id-12\" class=\"sk-top-container\"><div class=\"sk-text-repr-fallback\"><pre>GridSearchCV(cv=5, estimator=LogisticRegression(random_state=42), n_jobs=-1,\n",
       "             param_grid={&#x27;C&#x27;: array([1.00000000e-02, 2.06913808e-02, 4.28133240e-02, 8.85866790e-02,\n",
       "       1.83298071e-01, 3.79269019e-01, 7.84759970e-01, 1.62377674e+00,\n",
       "       3.35981829e+00, 6.95192796e+00, 1.43844989e+01, 2.97635144e+01,\n",
       "       6.15848211e+01, 1.27427499e+02, 2.63665090e+02, 5.45559478e+02,\n",
       "       1.12883789e+03, 2.33572147e+03, 4.83293024e+03, 1.00000000e+04]),\n",
       "                         &#x27;penalty&#x27;: [&#x27;l1&#x27;, &#x27;l2&#x27;, &#x27;elasticnet&#x27;],\n",
       "                         &#x27;solver&#x27;: [&#x27;lbfgs&#x27;, &#x27;liblinear&#x27;, &#x27;newton-cg&#x27;,\n",
       "                                    &#x27;newton-cholesky&#x27;, &#x27;sag’, ‘saga&#x27;]},\n",
       "             scoring=&#x27;roc_auc&#x27;)</pre><b>In a Jupyter environment, please rerun this cell to show the HTML representation or trust the notebook. <br />On GitHub, the HTML representation is unable to render, please try loading this page with nbviewer.org.</b></div><div class=\"sk-container\" hidden><div class=\"sk-item sk-dashed-wrapped\"><div class=\"sk-label-container\"><div class=\"sk-label sk-toggleable\"><input class=\"sk-toggleable__control sk-hidden--visually\" id=\"sk-estimator-id-38\" type=\"checkbox\" ><label for=\"sk-estimator-id-38\" class=\"sk-toggleable__label sk-toggleable__label-arrow\">GridSearchCV</label><div class=\"sk-toggleable__content\"><pre>GridSearchCV(cv=5, estimator=LogisticRegression(random_state=42), n_jobs=-1,\n",
       "             param_grid={&#x27;C&#x27;: array([1.00000000e-02, 2.06913808e-02, 4.28133240e-02, 8.85866790e-02,\n",
       "       1.83298071e-01, 3.79269019e-01, 7.84759970e-01, 1.62377674e+00,\n",
       "       3.35981829e+00, 6.95192796e+00, 1.43844989e+01, 2.97635144e+01,\n",
       "       6.15848211e+01, 1.27427499e+02, 2.63665090e+02, 5.45559478e+02,\n",
       "       1.12883789e+03, 2.33572147e+03, 4.83293024e+03, 1.00000000e+04]),\n",
       "                         &#x27;penalty&#x27;: [&#x27;l1&#x27;, &#x27;l2&#x27;, &#x27;elasticnet&#x27;],\n",
       "                         &#x27;solver&#x27;: [&#x27;lbfgs&#x27;, &#x27;liblinear&#x27;, &#x27;newton-cg&#x27;,\n",
       "                                    &#x27;newton-cholesky&#x27;, &#x27;sag’, ‘saga&#x27;]},\n",
       "             scoring=&#x27;roc_auc&#x27;)</pre></div></div></div><div class=\"sk-parallel\"><div class=\"sk-parallel-item\"><div class=\"sk-item\"><div class=\"sk-label-container\"><div class=\"sk-label sk-toggleable\"><input class=\"sk-toggleable__control sk-hidden--visually\" id=\"sk-estimator-id-39\" type=\"checkbox\" ><label for=\"sk-estimator-id-39\" class=\"sk-toggleable__label sk-toggleable__label-arrow\">estimator: LogisticRegression</label><div class=\"sk-toggleable__content\"><pre>LogisticRegression(random_state=42)</pre></div></div></div><div class=\"sk-serial\"><div class=\"sk-item\"><div class=\"sk-estimator sk-toggleable\"><input class=\"sk-toggleable__control sk-hidden--visually\" id=\"sk-estimator-id-40\" type=\"checkbox\" ><label for=\"sk-estimator-id-40\" class=\"sk-toggleable__label sk-toggleable__label-arrow\">LogisticRegression</label><div class=\"sk-toggleable__content\"><pre>LogisticRegression(random_state=42)</pre></div></div></div></div></div></div></div></div></div></div>"
      ],
      "text/plain": [
       "GridSearchCV(cv=5, estimator=LogisticRegression(random_state=42), n_jobs=-1,\n",
       "             param_grid={'C': array([1.00000000e-02, 2.06913808e-02, 4.28133240e-02, 8.85866790e-02,\n",
       "       1.83298071e-01, 3.79269019e-01, 7.84759970e-01, 1.62377674e+00,\n",
       "       3.35981829e+00, 6.95192796e+00, 1.43844989e+01, 2.97635144e+01,\n",
       "       6.15848211e+01, 1.27427499e+02, 2.63665090e+02, 5.45559478e+02,\n",
       "       1.12883789e+03, 2.33572147e+03, 4.83293024e+03, 1.00000000e+04]),\n",
       "                         'penalty': ['l1', 'l2', 'elasticnet'],\n",
       "                         'solver': ['lbfgs', 'liblinear', 'newton-cg',\n",
       "                                    'newton-cholesky', 'sag’, ‘saga']},\n",
       "             scoring='roc_auc')"
      ]
     },
     "execution_count": 764,
     "metadata": {},
     "output_type": "execute_result"
    }
   ],
   "source": [
    "model = LogisticRegression(random_state=42)\n",
    "parameters = {\n",
    "    'solver' : ['lbfgs', 'liblinear', 'newton-cg', 'newton-cholesky', 'sag’, ‘saga'],\n",
    "    'penalty' : ['l1', 'l2', 'elasticnet'],\n",
    "    'C' : np.logspace(-2, 4, 20),\n",
    "}\n",
    "\n",
    "grid = GridSearchCV(model, parameters, cv=5, scoring=\"roc_auc\", n_jobs=-1)\n",
    "grid.fit(minmax_scale(x_train[new_best_features]), y_train)#применяем нормализацию и выбираем нужные признаки"
   ]
  },
  {
   "cell_type": "code",
   "execution_count": 765,
   "id": "fc6d2e28",
   "metadata": {},
   "outputs": [
    {
     "name": "stdout",
     "output_type": "stream",
     "text": [
      "ROC_AUC: 0.8199721770247657\n"
     ]
    }
   ],
   "source": [
    "model = LogisticRegression(solver=grid.best_params_['solver'], \n",
    "                           penalty=grid.best_params_['penalty'],\n",
    "                           C=grid.best_params_['C'], \n",
    "                           random_state=42)\n",
    "model.fit(minmax_scale(x_train[new_best_features]), y_train)\n",
    "prob = model.predict_proba(minmax_scale(x_test[new_best_features]))[:,1]\n",
    "print('ROC_AUC:', roc_auc_score(y_test, prob))"
   ]
  },
  {
   "cell_type": "markdown",
   "id": "28c33fb3",
   "metadata": {},
   "source": [
    "Мда, качество упало еще сильнее. Я начинаю подозревать, что для увеличения качества нужно работать не с признаками. Что в принципе еще можно поменять? Пропущенные значения убирал, признаки перебирал, гиперпараметры подгонял, остается только изменить модель, но это делать нельзя. Попробуем поменять GridSearchCV на LogisticRegressionCV, может поможет (увидел на хабре, что кто-то так С оптимизирует)."
   ]
  },
  {
   "cell_type": "code",
   "execution_count": 759,
   "id": "fa0e0cf8",
   "metadata": {},
   "outputs": [],
   "source": [
    "skf = StratifiedKFold(n_splits=5, shuffle=True, random_state=42) #решил заодно cv поменять"
   ]
  },
  {
   "cell_type": "code",
   "execution_count": 769,
   "id": "c1e61c91",
   "metadata": {},
   "outputs": [
    {
     "name": "stderr",
     "output_type": "stream",
     "text": [
      "[Parallel(n_jobs=-1)]: Using backend LokyBackend with 8 concurrent workers.\n",
      "[Parallel(n_jobs=-1)]: Done   2 out of   5 | elapsed:   27.2s remaining:   40.8s\n",
      "[Parallel(n_jobs=-1)]: Done   5 out of   5 | elapsed:   27.3s finished\n"
     ]
    },
    {
     "name": "stdout",
     "output_type": "stream",
     "text": [
      "ROC_AUC: 0.8358929408971679\n"
     ]
    }
   ],
   "source": [
    "c_values = np.logspace(-2, 3, 500)\n",
    "\n",
    "logit_searcher = LogisticRegressionCV(Cs=c_values, cv=skf, scoring=\"roc_auc\", verbose=1, n_jobs=-1)\n",
    "\n",
    "logit_searcher.fit(minmax_scale(x_train), y_train)\n",
    "prob = logit_searcher.predict_proba(minmax_scale(x_test))[:,1]\n",
    "print('ROC_AUC:', roc_auc_score(y_test, prob))"
   ]
  },
  {
   "cell_type": "markdown",
   "id": "c6f0f32d",
   "metadata": {},
   "source": [
    "Это уже лучше, чем предыдущие результаты, где я пытался отбирать признаки и даже лучше, чем значение ROC_AUC из 3 части. Прогресс. Наконец, поробую последний вариант, где просто сделаю GridSearchCV на всех признаках, но в отличие от 3 части буду одновременно подбирать все гиперпараметры. "
   ]
  },
  {
   "cell_type": "code",
   "execution_count": 766,
   "id": "bc1382ec",
   "metadata": {},
   "outputs": [
    {
     "name": "stdout",
     "output_type": "stream",
     "text": [
      "{'C': 0.08858667904100823, 'penalty': 'l2', 'solver': 'liblinear'}\n",
      "0.8130325979161178\n"
     ]
    }
   ],
   "source": [
    "model = LogisticRegression(random_state=42)\n",
    "parameters = {\n",
    "    'solver' : ['lbfgs', 'liblinear', 'newton-cg', 'newton-cholesky', 'sag’, ‘saga'],\n",
    "    'penalty' : ['l1', 'l2', 'elasticnet'],\n",
    "    'C' : np.logspace(-2, 4, 20),\n",
    "    #'class_weight' : ['balanced', None], я пытался подгонять польше параметров, но это просто не компилится\n",
    "    #'fit_intercept' : [True, False]\n",
    "    #'max_iter' : np.linspace(0, 150, 15, dtype=int)\n",
    "}\n",
    "\n",
    "grid = GridSearchCV(model, parameters, cv=skf, scoring=\"roc_auc\", n_jobs=-1)\n",
    "grid.fit(minmax_scale(x_train), y_train)#применяем нормализацию и выбираем нужные признаки"
   ]
  },
  {
   "cell_type": "code",
   "execution_count": 768,
   "id": "2bfbe4e1",
   "metadata": {},
   "outputs": [
    {
     "name": "stdout",
     "output_type": "stream",
     "text": [
      "ROC_AUC: 0.8359370928609893\n"
     ]
    }
   ],
   "source": [
    "model = LogisticRegression(solver=grid.best_params_['solver'], \n",
    "                           penalty=grid.best_params_['penalty'],\n",
    "                           C=grid.best_params_['C'], \n",
    "                           random_state=42)\n",
    "model.fit(minmax_scale(x_train), y_train)\n",
    "prob = model.predict_proba(minmax_scale(x_test))[:,1]\n",
    "print('ROC_AUC:', roc_auc_score(y_test, prob))"
   ]
  },
  {
   "cell_type": "markdown",
   "id": "9fb50e58",
   "metadata": {},
   "source": [
    "О чудо, результат еще немного увеличился, на целых 0.00004. Может это предел для логистической регрессии и преоделеть даже 84% нельзя? Последним рывком попробую добавить признаки из части 1 к общему списку признаков, хотя не уверен, можно ли это по условию."
   ]
  },
  {
   "cell_type": "code",
   "execution_count": 803,
   "id": "7aa4ed46",
   "metadata": {},
   "outputs": [],
   "source": [
    "last_chance = last_chance1.merge(last_chance2, how='outer', left_index=True, right_index=True)"
   ]
  },
  {
   "cell_type": "code",
   "execution_count": 805,
   "id": "a22e5906",
   "metadata": {},
   "outputs": [],
   "source": [
    "df_train, df_test = train_test_split(last_chance, test_size = 0.2, stratify=last_chance['gender'],  random_state=42)\n",
    "y_train = df_train['gender']  #целевая переменная для test-а и train-а\n",
    "y_test = df_test['gender']\n",
    "\n",
    "x_train = df_train.drop('gender', axis=1)   #регрессоры для test-а и train-а\n",
    "x_test = df_test.drop('gender', axis=1)"
   ]
  },
  {
   "cell_type": "code",
   "execution_count": 807,
   "id": "d074c0d5",
   "metadata": {},
   "outputs": [
    {
     "data": {
      "text/html": [
       "<style>#sk-container-id-13 {color: black;background-color: white;}#sk-container-id-13 pre{padding: 0;}#sk-container-id-13 div.sk-toggleable {background-color: white;}#sk-container-id-13 label.sk-toggleable__label {cursor: pointer;display: block;width: 100%;margin-bottom: 0;padding: 0.3em;box-sizing: border-box;text-align: center;}#sk-container-id-13 label.sk-toggleable__label-arrow:before {content: \"▸\";float: left;margin-right: 0.25em;color: #696969;}#sk-container-id-13 label.sk-toggleable__label-arrow:hover:before {color: black;}#sk-container-id-13 div.sk-estimator:hover label.sk-toggleable__label-arrow:before {color: black;}#sk-container-id-13 div.sk-toggleable__content {max-height: 0;max-width: 0;overflow: hidden;text-align: left;background-color: #f0f8ff;}#sk-container-id-13 div.sk-toggleable__content pre {margin: 0.2em;color: black;border-radius: 0.25em;background-color: #f0f8ff;}#sk-container-id-13 input.sk-toggleable__control:checked~div.sk-toggleable__content {max-height: 200px;max-width: 100%;overflow: auto;}#sk-container-id-13 input.sk-toggleable__control:checked~label.sk-toggleable__label-arrow:before {content: \"▾\";}#sk-container-id-13 div.sk-estimator input.sk-toggleable__control:checked~label.sk-toggleable__label {background-color: #d4ebff;}#sk-container-id-13 div.sk-label input.sk-toggleable__control:checked~label.sk-toggleable__label {background-color: #d4ebff;}#sk-container-id-13 input.sk-hidden--visually {border: 0;clip: rect(1px 1px 1px 1px);clip: rect(1px, 1px, 1px, 1px);height: 1px;margin: -1px;overflow: hidden;padding: 0;position: absolute;width: 1px;}#sk-container-id-13 div.sk-estimator {font-family: monospace;background-color: #f0f8ff;border: 1px dotted black;border-radius: 0.25em;box-sizing: border-box;margin-bottom: 0.5em;}#sk-container-id-13 div.sk-estimator:hover {background-color: #d4ebff;}#sk-container-id-13 div.sk-parallel-item::after {content: \"\";width: 100%;border-bottom: 1px solid gray;flex-grow: 1;}#sk-container-id-13 div.sk-label:hover label.sk-toggleable__label {background-color: #d4ebff;}#sk-container-id-13 div.sk-serial::before {content: \"\";position: absolute;border-left: 1px solid gray;box-sizing: border-box;top: 0;bottom: 0;left: 50%;z-index: 0;}#sk-container-id-13 div.sk-serial {display: flex;flex-direction: column;align-items: center;background-color: white;padding-right: 0.2em;padding-left: 0.2em;position: relative;}#sk-container-id-13 div.sk-item {position: relative;z-index: 1;}#sk-container-id-13 div.sk-parallel {display: flex;align-items: stretch;justify-content: center;background-color: white;position: relative;}#sk-container-id-13 div.sk-item::before, #sk-container-id-13 div.sk-parallel-item::before {content: \"\";position: absolute;border-left: 1px solid gray;box-sizing: border-box;top: 0;bottom: 0;left: 50%;z-index: -1;}#sk-container-id-13 div.sk-parallel-item {display: flex;flex-direction: column;z-index: 1;position: relative;background-color: white;}#sk-container-id-13 div.sk-parallel-item:first-child::after {align-self: flex-end;width: 50%;}#sk-container-id-13 div.sk-parallel-item:last-child::after {align-self: flex-start;width: 50%;}#sk-container-id-13 div.sk-parallel-item:only-child::after {width: 0;}#sk-container-id-13 div.sk-dashed-wrapped {border: 1px dashed gray;margin: 0 0.4em 0.5em 0.4em;box-sizing: border-box;padding-bottom: 0.4em;background-color: white;}#sk-container-id-13 div.sk-label label {font-family: monospace;font-weight: bold;display: inline-block;line-height: 1.2em;}#sk-container-id-13 div.sk-label-container {text-align: center;}#sk-container-id-13 div.sk-container {/* jupyter's `normalize.less` sets `[hidden] { display: none; }` but bootstrap.min.css set `[hidden] { display: none !important; }` so we also need the `!important` here to be able to override the default hidden behavior on the sphinx rendered scikit-learn.org. See: https://github.com/scikit-learn/scikit-learn/issues/21755 */display: inline-block !important;position: relative;}#sk-container-id-13 div.sk-text-repr-fallback {display: none;}</style><div id=\"sk-container-id-13\" class=\"sk-top-container\"><div class=\"sk-text-repr-fallback\"><pre>GridSearchCV(cv=StratifiedKFold(n_splits=5, random_state=42, shuffle=True),\n",
       "             estimator=LogisticRegression(random_state=42), n_jobs=-1,\n",
       "             param_grid={&#x27;C&#x27;: array([1.00000000e-02, 2.06913808e-02, 4.28133240e-02, 8.85866790e-02,\n",
       "       1.83298071e-01, 3.79269019e-01, 7.84759970e-01, 1.62377674e+00,\n",
       "       3.35981829e+00, 6.95192796e+00, 1.43844989e+01, 2.97635144e+01,\n",
       "       6.15848211e+01, 1.27427499e+02, 2.63665090e+02, 5.45559478e+02,\n",
       "       1.12883789e+03, 2.33572147e+03, 4.83293024e+03, 1.00000000e+04]),\n",
       "                         &#x27;solver&#x27;: [&#x27;lbfgs&#x27;, &#x27;newton-cg&#x27;, &#x27;newton-cholesky&#x27;,\n",
       "                                    &#x27;sag&#x27;]},\n",
       "             scoring=&#x27;roc_auc&#x27;)</pre><b>In a Jupyter environment, please rerun this cell to show the HTML representation or trust the notebook. <br />On GitHub, the HTML representation is unable to render, please try loading this page with nbviewer.org.</b></div><div class=\"sk-container\" hidden><div class=\"sk-item sk-dashed-wrapped\"><div class=\"sk-label-container\"><div class=\"sk-label sk-toggleable\"><input class=\"sk-toggleable__control sk-hidden--visually\" id=\"sk-estimator-id-41\" type=\"checkbox\" ><label for=\"sk-estimator-id-41\" class=\"sk-toggleable__label sk-toggleable__label-arrow\">GridSearchCV</label><div class=\"sk-toggleable__content\"><pre>GridSearchCV(cv=StratifiedKFold(n_splits=5, random_state=42, shuffle=True),\n",
       "             estimator=LogisticRegression(random_state=42), n_jobs=-1,\n",
       "             param_grid={&#x27;C&#x27;: array([1.00000000e-02, 2.06913808e-02, 4.28133240e-02, 8.85866790e-02,\n",
       "       1.83298071e-01, 3.79269019e-01, 7.84759970e-01, 1.62377674e+00,\n",
       "       3.35981829e+00, 6.95192796e+00, 1.43844989e+01, 2.97635144e+01,\n",
       "       6.15848211e+01, 1.27427499e+02, 2.63665090e+02, 5.45559478e+02,\n",
       "       1.12883789e+03, 2.33572147e+03, 4.83293024e+03, 1.00000000e+04]),\n",
       "                         &#x27;solver&#x27;: [&#x27;lbfgs&#x27;, &#x27;newton-cg&#x27;, &#x27;newton-cholesky&#x27;,\n",
       "                                    &#x27;sag&#x27;]},\n",
       "             scoring=&#x27;roc_auc&#x27;)</pre></div></div></div><div class=\"sk-parallel\"><div class=\"sk-parallel-item\"><div class=\"sk-item\"><div class=\"sk-label-container\"><div class=\"sk-label sk-toggleable\"><input class=\"sk-toggleable__control sk-hidden--visually\" id=\"sk-estimator-id-42\" type=\"checkbox\" ><label for=\"sk-estimator-id-42\" class=\"sk-toggleable__label sk-toggleable__label-arrow\">estimator: LogisticRegression</label><div class=\"sk-toggleable__content\"><pre>LogisticRegression(random_state=42)</pre></div></div></div><div class=\"sk-serial\"><div class=\"sk-item\"><div class=\"sk-estimator sk-toggleable\"><input class=\"sk-toggleable__control sk-hidden--visually\" id=\"sk-estimator-id-43\" type=\"checkbox\" ><label for=\"sk-estimator-id-43\" class=\"sk-toggleable__label sk-toggleable__label-arrow\">LogisticRegression</label><div class=\"sk-toggleable__content\"><pre>LogisticRegression(random_state=42)</pre></div></div></div></div></div></div></div></div></div></div>"
      ],
      "text/plain": [
       "GridSearchCV(cv=StratifiedKFold(n_splits=5, random_state=42, shuffle=True),\n",
       "             estimator=LogisticRegression(random_state=42), n_jobs=-1,\n",
       "             param_grid={'C': array([1.00000000e-02, 2.06913808e-02, 4.28133240e-02, 8.85866790e-02,\n",
       "       1.83298071e-01, 3.79269019e-01, 7.84759970e-01, 1.62377674e+00,\n",
       "       3.35981829e+00, 6.95192796e+00, 1.43844989e+01, 2.97635144e+01,\n",
       "       6.15848211e+01, 1.27427499e+02, 2.63665090e+02, 5.45559478e+02,\n",
       "       1.12883789e+03, 2.33572147e+03, 4.83293024e+03, 1.00000000e+04]),\n",
       "                         'solver': ['lbfgs', 'newton-cg', 'newton-cholesky',\n",
       "                                    'sag']},\n",
       "             scoring='roc_auc')"
      ]
     },
     "execution_count": 807,
     "metadata": {},
     "output_type": "execute_result"
    }
   ],
   "source": [
    "model = LogisticRegression(random_state=42)\n",
    "parameters = {\n",
    "    'solver' : ['lbfgs', 'newton-cg', 'newton-cholesky', 'sag'],\n",
    "    'C' : np.logspace(-2, 4, 20),\n",
    "    #'penalty' : ['l1', 'l2', 'elasticnet'], теперь, грид начал падать, если не разделять солверы, оч странно\n",
    "}\n",
    "\n",
    "grid = GridSearchCV(model, parameters, cv=skf, scoring=\"roc_auc\", n_jobs=-1)\n",
    "grid.fit(minmax_scale(x_train), y_train)#применяем нормализацию и выбираем нужные признаки"
   ]
  },
  {
   "cell_type": "code",
   "execution_count": 808,
   "id": "ae2867f8",
   "metadata": {},
   "outputs": [
    {
     "name": "stdout",
     "output_type": "stream",
     "text": [
      "ROC_AUC: 0.836333012930011\n"
     ]
    }
   ],
   "source": [
    "model = LogisticRegression(solver=grid.best_params_['solver'], \n",
    "                           penalty='l2',\n",
    "                           C=grid.best_params_['C'], \n",
    "                           random_state=42)\n",
    "model.fit(minmax_scale(x_train), y_train)\n",
    "prob = model.predict_proba(minmax_scale(x_test))[:,1]\n",
    "print('ROC_AUC:', roc_auc_score(y_test, prob))"
   ]
  },
  {
   "cell_type": "markdown",
   "id": "bafdb9dd",
   "metadata": {},
   "source": [
    "Опа, еще рост на целых 0.0004, прирост в тысячу раз больше, чем прошлый раз. Проверим оставшиеся солверы. "
   ]
  },
  {
   "cell_type": "code",
   "execution_count": 810,
   "id": "4218334c",
   "metadata": {},
   "outputs": [
    {
     "name": "stdout",
     "output_type": "stream",
     "text": [
      "ROC_AUC: 0.8362273377379139\n"
     ]
    }
   ],
   "source": [
    "model = LogisticRegression(solver='liblinear', random_state=42)\n",
    "parameters = {\n",
    "    #'solver' : ['lbfgs', 'newton-cg', 'newton-cholesky', 'sag'],\n",
    "    'C' : np.logspace(-2, 4, 20),\n",
    "    'penalty' : ['l1', 'l2'], #теперь, грид начал падать, если не разделять солверы, оч странно\n",
    "}\n",
    "\n",
    "grid = GridSearchCV(model, parameters, cv=skf, scoring=\"roc_auc\", n_jobs=-1)\n",
    "grid.fit(minmax_scale(x_train), y_train)#применяем нормализацию и выбираем нужные признаки\n",
    "model = LogisticRegression(solver='liblinear', \n",
    "                           penalty=grid.best_params_['penalty'],\n",
    "                           C=grid.best_params_['C'], \n",
    "                           random_state=42)\n",
    "model.fit(minmax_scale(x_train), y_train)\n",
    "prob = model.predict_proba(minmax_scale(x_test))[:,1]\n",
    "print('ROC_AUC:', roc_auc_score(y_test, prob))"
   ]
  },
  {
   "cell_type": "markdown",
   "id": "e69b8088",
   "metadata": {},
   "source": [
    "Падение, liblinear хуже. Допроверяем saga."
   ]
  },
  {
   "cell_type": "code",
   "execution_count": 811,
   "id": "6ab3babb",
   "metadata": {},
   "outputs": [
    {
     "name": "stdout",
     "output_type": "stream",
     "text": [
      "ROC_AUC: 0.8363315653246399\n"
     ]
    }
   ],
   "source": [
    "model = LogisticRegression(solver='saga', random_state=42)\n",
    "parameters = {\n",
    "    #'solver' : ['lbfgs', 'newton-cg', 'newton-cholesky', 'sag'],\n",
    "    'C' : np.logspace(-2, 4, 20),\n",
    "    'penalty' : ['l1', 'l2', 'elasticnet'], #теперь, грид начал падать, если не разделять солверы, оч странно\n",
    "}\n",
    "\n",
    "grid = GridSearchCV(model, parameters, cv=skf, scoring=\"roc_auc\", n_jobs=-1)\n",
    "grid.fit(minmax_scale(x_train), y_train)#применяем нормализацию и выбираем нужные признаки\n",
    "model = LogisticRegression(solver='saga', \n",
    "                           penalty=grid.best_params_['penalty'],\n",
    "                           C=grid.best_params_['C'], \n",
    "                           random_state=42)\n",
    "model.fit(minmax_scale(x_train), y_train)\n",
    "prob = model.predict_proba(minmax_scale(x_test))[:,1]\n",
    "print('ROC_AUC:', roc_auc_score(y_test, prob))"
   ]
  },
  {
   "cell_type": "markdown",
   "id": "f9308f64",
   "metadata": {},
   "source": [
    "Тоже хуже. Вот и все, победитель найден. Итоговый прирост качества по сравнению с 3 частью = $0.836333012930011 - 0.8359392642690461 = 0.00039$. Маловато будет, но я пытался. Видимо, все-таки нужны модели получше, либо мой комп из каменного века."
   ]
  },
  {
   "cell_type": "code",
   "execution_count": null,
   "id": "0151ad59",
   "metadata": {},
   "outputs": [],
   "source": []
  }
 ],
 "metadata": {
  "kernelspec": {
   "display_name": "Python 3 (ipykernel)",
   "language": "python",
   "name": "python3"
  },
  "language_info": {
   "codemirror_mode": {
    "name": "ipython",
    "version": 3
   },
   "file_extension": ".py",
   "mimetype": "text/x-python",
   "name": "python",
   "nbconvert_exporter": "python",
   "pygments_lexer": "ipython3",
   "version": "3.10.9"
  }
 },
 "nbformat": 4,
 "nbformat_minor": 5
}
